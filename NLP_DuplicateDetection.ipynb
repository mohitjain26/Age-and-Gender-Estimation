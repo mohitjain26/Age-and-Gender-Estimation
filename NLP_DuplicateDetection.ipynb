{
  "nbformat": 4,
  "nbformat_minor": 0,
  "metadata": {
    "colab": {
      "name": "NLP_DuplicateDetection.ipynb",
      "provenance": [],
      "collapsed_sections": [],
      "include_colab_link": true
    },
    "kernelspec": {
      "display_name": "Python 3",
      "language": "python",
      "name": "python3"
    },
    "language_info": {
      "codemirror_mode": {
        "name": "ipython",
        "version": 3
      },
      "file_extension": ".py",
      "mimetype": "text/x-python",
      "name": "python",
      "nbconvert_exporter": "python",
      "pygments_lexer": "ipython3",
      "version": "3.8.3"
    }
  },
  "cells": [
    {
      "cell_type": "markdown",
      "metadata": {
        "id": "view-in-github",
        "colab_type": "text"
      },
      "source": [
        "<a href=\"https://colab.research.google.com/github/mohitjain26/Age-and-Gender-Estimation/blob/master/NLP_DuplicateDetection.ipynb\" target=\"_parent\"><img src=\"https://colab.research.google.com/assets/colab-badge.svg\" alt=\"Open In Colab\"/></a>"
      ]
    },
    {
      "cell_type": "code",
      "metadata": {
        "colab": {
          "base_uri": "https://localhost:8080/"
        },
        "id": "MCWPu10OqwK-",
        "outputId": "2ff28951-f0ff-42b4-dbae-f08aad597423"
      },
      "source": [
        "# Accessing Drive\n",
        "from google.colab import drive\n",
        "drive.mount('/content/drive')"
      ],
      "execution_count": null,
      "outputs": [
        {
          "output_type": "stream",
          "text": [
            "Mounted at /content/drive\n"
          ],
          "name": "stdout"
        }
      ]
    },
    {
      "cell_type": "code",
      "metadata": {
        "colab": {
          "base_uri": "https://localhost:8080/"
        },
        "id": "8LJ4cIhnrxKz",
        "outputId": "d48ee844-f5de-446d-e567-c6ed1fa61fa3"
      },
      "source": [
        "!pip install plotly\n",
        "!pip install distance\n",
        "!pip install fuzzywuzzy\n",
        "!pip install wordcloud"
      ],
      "execution_count": null,
      "outputs": [
        {
          "output_type": "stream",
          "text": [
            "Requirement already satisfied: plotly in c:\\programdata\\anaconda3\\lib\\site-packages (4.14.1)\n",
            "Requirement already satisfied: six in c:\\programdata\\anaconda3\\lib\\site-packages (from plotly) (1.15.0)\n",
            "Requirement already satisfied: retrying>=1.3.3 in c:\\programdata\\anaconda3\\lib\\site-packages (from plotly) (1.3.3)\n",
            "Requirement already satisfied: distance in c:\\programdata\\anaconda3\\lib\\site-packages (0.1.3)\n",
            "Requirement already satisfied: fuzzywuzzy in c:\\programdata\\anaconda3\\lib\\site-packages (0.18.0)\n",
            "Requirement already satisfied: wordcloud in c:\\programdata\\anaconda3\\lib\\site-packages (1.8.1)\n",
            "Requirement already satisfied: pillow in c:\\programdata\\anaconda3\\lib\\site-packages (from wordcloud) (7.2.0)\n",
            "Requirement already satisfied: numpy>=1.6.1 in c:\\programdata\\anaconda3\\lib\\site-packages (from wordcloud) (1.18.5)\n",
            "Requirement already satisfied: matplotlib in c:\\programdata\\anaconda3\\lib\\site-packages (from wordcloud) (3.2.2)\n",
            "Requirement already satisfied: python-dateutil>=2.1 in c:\\programdata\\anaconda3\\lib\\site-packages (from matplotlib->wordcloud) (2.8.1)\n",
            "Requirement already satisfied: kiwisolver>=1.0.1 in c:\\programdata\\anaconda3\\lib\\site-packages (from matplotlib->wordcloud) (1.2.0)\n",
            "Requirement already satisfied: pyparsing!=2.0.4,!=2.1.2,!=2.1.6,>=2.0.1 in c:\\programdata\\anaconda3\\lib\\site-packages (from matplotlib->wordcloud) (2.4.7)\n",
            "Requirement already satisfied: cycler>=0.10 in c:\\programdata\\anaconda3\\lib\\site-packages (from matplotlib->wordcloud) (0.10.0)\n",
            "Requirement already satisfied: six>=1.5 in c:\\programdata\\anaconda3\\lib\\site-packages (from python-dateutil>=2.1->matplotlib->wordcloud) (1.15.0)\n"
          ],
          "name": "stdout"
        }
      ]
    },
    {
      "cell_type": "markdown",
      "metadata": {
        "id": "hewDitKaIf2u"
      },
      "source": [
        "Importing Libraries"
      ]
    },
    {
      "cell_type": "code",
      "metadata": {
        "colab": {
          "base_uri": "https://localhost:8080/",
          "height": 17
        },
        "id": "TGhqTHX9rMpP",
        "outputId": "d7e942f7-7078-42c9-f5ec-f7c91064931b"
      },
      "source": [
        "import warnings\n",
        "warnings.filterwarnings(\"ignore\")\n",
        "import numpy as np\n",
        "import pandas as pd\n",
        "import seaborn as sns\n",
        "import matplotlib.pyplot as plt\n",
        "from subprocess import check_output\n",
        "%matplotlib inline\n",
        "import plotly.offline as py\n",
        "py.init_notebook_mode(connected=True)\n",
        "import plotly.graph_objs as go\n",
        "import plotly.tools as tls\n",
        "import os\n",
        "import gc\n",
        "\n",
        "import distance\n",
        "from bs4 import BeautifulSoup \n",
        "from fuzzywuzzy import fuzz\n",
        "from sklearn.manifold import TSNE\n",
        "# Import the Required lib packages for WORD-Cloud generation\n",
        "from wordcloud import WordCloud, STOPWORDS\n",
        "from os import path\n",
        "from PIL import Image\n",
        "import math\n",
        "import re\n",
        "# This package is used for finding longest common subsequence between two strings\n",
        "from nltk.corpus import wordnet\n",
        "from nltk.corpus import brown\n",
        "from nltk.corpus import stopwords\n",
        "from nltk import FreqDist\n",
        "from nltk.stem import PorterStemmer"
      ],
      "execution_count": null,
      "outputs": [
        {
          "output_type": "display_data",
          "data": {
            "text/html": [
              "        <script type=\"text/javascript\">\n",
              "        window.PlotlyConfig = {MathJaxConfig: 'local'};\n",
              "        if (window.MathJax) {MathJax.Hub.Config({SVG: {font: \"STIX-Web\"}});}\n",
              "        if (typeof require !== 'undefined') {\n",
              "        require.undef(\"plotly\");\n",
              "        requirejs.config({\n",
              "            paths: {\n",
              "                'plotly': ['https://cdn.plot.ly/plotly-latest.min']\n",
              "            }\n",
              "        });\n",
              "        require(['plotly'], function(Plotly) {\n",
              "            window._Plotly = Plotly;\n",
              "        });\n",
              "        }\n",
              "        </script>\n",
              "        "
            ]
          },
          "metadata": {
            "tags": []
          }
        }
      ]
    },
    {
      "cell_type": "code",
      "metadata": {
        "colab": {
          "base_uri": "https://localhost:8080/",
          "height": 195
        },
        "id": "YKtK_KFrsILg",
        "outputId": "b5c1bf08-0bef-470e-a873-4366aa2a385f"
      },
      "source": [
        "#import pandas as pd\n",
        "train_data = pd.read_csv(\"/content/drive/MyDrive/Thesis/train.csv\")\n",
        "train_data.head()"
      ],
      "execution_count": null,
      "outputs": [
        {
          "output_type": "execute_result",
          "data": {
            "text/html": [
              "<div>\n",
              "<style scoped>\n",
              "    .dataframe tbody tr th:only-of-type {\n",
              "        vertical-align: middle;\n",
              "    }\n",
              "\n",
              "    .dataframe tbody tr th {\n",
              "        vertical-align: top;\n",
              "    }\n",
              "\n",
              "    .dataframe thead th {\n",
              "        text-align: right;\n",
              "    }\n",
              "</style>\n",
              "<table border=\"1\" class=\"dataframe\">\n",
              "  <thead>\n",
              "    <tr style=\"text-align: right;\">\n",
              "      <th></th>\n",
              "      <th>id</th>\n",
              "      <th>qid1</th>\n",
              "      <th>qid2</th>\n",
              "      <th>question1</th>\n",
              "      <th>question2</th>\n",
              "      <th>is_duplicate</th>\n",
              "    </tr>\n",
              "  </thead>\n",
              "  <tbody>\n",
              "    <tr>\n",
              "      <th>0</th>\n",
              "      <td>0</td>\n",
              "      <td>1</td>\n",
              "      <td>2</td>\n",
              "      <td>What is the step by step guide to invest in sh...</td>\n",
              "      <td>What is the step by step guide to invest in sh...</td>\n",
              "      <td>0</td>\n",
              "    </tr>\n",
              "    <tr>\n",
              "      <th>1</th>\n",
              "      <td>1</td>\n",
              "      <td>3</td>\n",
              "      <td>4</td>\n",
              "      <td>What is the story of Kohinoor (Koh-i-Noor) Dia...</td>\n",
              "      <td>What would happen if the Indian government sto...</td>\n",
              "      <td>0</td>\n",
              "    </tr>\n",
              "    <tr>\n",
              "      <th>2</th>\n",
              "      <td>2</td>\n",
              "      <td>5</td>\n",
              "      <td>6</td>\n",
              "      <td>How can I increase the speed of my internet co...</td>\n",
              "      <td>How can Internet speed be increased by hacking...</td>\n",
              "      <td>0</td>\n",
              "    </tr>\n",
              "    <tr>\n",
              "      <th>3</th>\n",
              "      <td>3</td>\n",
              "      <td>7</td>\n",
              "      <td>8</td>\n",
              "      <td>Why am I mentally very lonely? How can I solve...</td>\n",
              "      <td>Find the remainder when [math]23^{24}[/math] i...</td>\n",
              "      <td>0</td>\n",
              "    </tr>\n",
              "    <tr>\n",
              "      <th>4</th>\n",
              "      <td>4</td>\n",
              "      <td>9</td>\n",
              "      <td>10</td>\n",
              "      <td>Which one dissolve in water quikly sugar, salt...</td>\n",
              "      <td>Which fish would survive in salt water?</td>\n",
              "      <td>0</td>\n",
              "    </tr>\n",
              "  </tbody>\n",
              "</table>\n",
              "</div>"
            ],
            "text/plain": [
              "   id  qid1  ...                                          question2 is_duplicate\n",
              "0   0     1  ...  What is the step by step guide to invest in sh...            0\n",
              "1   1     3  ...  What would happen if the Indian government sto...            0\n",
              "2   2     5  ...  How can Internet speed be increased by hacking...            0\n",
              "3   3     7  ...  Find the remainder when [math]23^{24}[/math] i...            0\n",
              "4   4     9  ...            Which fish would survive in salt water?            0\n",
              "\n",
              "[5 rows x 6 columns]"
            ]
          },
          "metadata": {
            "tags": []
          },
          "execution_count": 7
        }
      ]
    },
    {
      "cell_type": "markdown",
      "metadata": {
        "id": "m52jgAoHaeTk"
      },
      "source": [
        "# Data Understanding\n",
        "\n",
        "1 Checking for removing NULL values data points \n"
      ]
    },
    {
      "cell_type": "code",
      "metadata": {
        "colab": {
          "base_uri": "https://localhost:8080/"
        },
        "id": "fk53-oIgadfx",
        "outputId": "f6ffcdf0-7ffd-4335-c1f5-9b8c6c02488e"
      },
      "source": [
        "train_data.isnull().sum()"
      ],
      "execution_count": null,
      "outputs": [
        {
          "output_type": "execute_result",
          "data": {
            "text/plain": [
              "id              0\n",
              "qid1            0\n",
              "qid2            0\n",
              "question1       1\n",
              "question2       2\n",
              "is_duplicate    0\n",
              "dtype: int64"
            ]
          },
          "metadata": {
            "tags": []
          },
          "execution_count": 39
        }
      ]
    },
    {
      "cell_type": "code",
      "metadata": {
        "colab": {
          "base_uri": "https://localhost:8080/"
        },
        "id": "t9D5hW3zceuJ",
        "outputId": "5cbaec77-6a13-43f3-878e-e0f277c74865"
      },
      "source": [
        "#printing indices of points which contain null values\n",
        "nullIndices = []\n",
        "for index, textinfo in train_data.iterrows():\n",
        "    if type(textinfo[\"question1\"]) is not str or type(textinfo[\"question2\"]) is not str:\n",
        "        print(index)\n",
        "        nullIndices.append(index)"
      ],
      "execution_count": null,
      "outputs": [
        {
          "output_type": "stream",
          "text": [
            "105780\n",
            "201841\n",
            "363362\n"
          ],
          "name": "stdout"
        }
      ]
    },
    {
      "cell_type": "code",
      "metadata": {
        "colab": {
          "base_uri": "https://localhost:8080/"
        },
        "id": "bvr7W2uhcvjD",
        "outputId": "170b830c-569b-4ae7-fa7c-47b846083600"
      },
      "source": [
        "train_data.drop(nullIndices, axis = 0, inplace = True)\n",
        "train_data.isnull().sum()\n"
      ],
      "execution_count": null,
      "outputs": [
        {
          "output_type": "execute_result",
          "data": {
            "text/plain": [
              "id              0\n",
              "qid1            0\n",
              "qid2            0\n",
              "question1       0\n",
              "question2       0\n",
              "is_duplicate    0\n",
              "dtype: int64"
            ]
          },
          "metadata": {
            "tags": []
          },
          "execution_count": 41
        }
      ]
    },
    {
      "cell_type": "markdown",
      "metadata": {
        "id": "dRAcpgQbc_24"
      },
      "source": [
        "2 Checking label counts and balancing the data\n"
      ]
    },
    {
      "cell_type": "code",
      "metadata": {
        "colab": {
          "base_uri": "https://localhost:8080/"
        },
        "id": "HjfWEBO5dL4X",
        "outputId": "66b262cf-aa0b-4688-8d82-e2505ba51f3e"
      },
      "source": [
        "label_name = train_data['is_duplicate'].map({0:\"Not-Duplicate\", 1:\"Duplicate\"})\n",
        "label_name.value_counts()"
      ],
      "execution_count": null,
      "outputs": [
        {
          "output_type": "execute_result",
          "data": {
            "text/plain": [
              "Not-Duplicate    255024\n",
              "Duplicate        149263\n",
              "Name: is_duplicate, dtype: int64"
            ]
          },
          "metadata": {
            "tags": []
          },
          "execution_count": 42
        }
      ]
    },
    {
      "cell_type": "code",
      "metadata": {
        "colab": {
          "base_uri": "https://localhost:8080/",
          "height": 506
        },
        "id": "JQjMhs2pdcpo",
        "outputId": "1948fc7c-6ef6-4b76-d9c8-0e2586eac093"
      },
      "source": [
        "fig = plt.figure(figsize = (8, 6))\n",
        "axes = fig.add_axes([0.1,0.1,1,1])\n",
        "axes.set_title(\"Counts of Duplicate Vs Non-Duplicate Questions\", fontsize = 20)\n",
        "axes.set_ylabel(\"Count\", fontsize = 20)\n",
        "plt.grid(linestyle='-', linewidth=0.5)\n",
        "axes.tick_params(labelsize = 15)\n",
        "sns.countplot(list(label_name), ax = axes)\n",
        "for i in axes.patches:\n",
        "    axes.text(i.get_x()+0.3, i.get_height()+1000, str(round(i.get_height(), 2)), fontsize=20, color='black')\n",
        "plt.show()"
      ],
      "execution_count": null,
      "outputs": [
        {
          "output_type": "display_data",
          "data": {
            "image/png": "[encoded data removed]",
            "text/plain": [
              "<Figure size 576x432 with 1 Axes>"
            ]
          },
          "metadata": {
            "tags": [],
            "needs_background": "light"
          }
        }
      ]
    },
    {
      "cell_type": "markdown",
      "metadata": {
        "id": "cCMtIEqXdoYc"
      },
      "source": [
        "Number of data-points which contains non-duplicate questions are very high as compared to data-points which contains duplicate questions. Since we already have enough number of data-points so we have decided that we will remove 105700 non-duplicate data-points from our data so that the difference between duplicate and non-duplicate questions will be minimal."
      ]
    },
    {
      "cell_type": "code",
      "metadata": {
        "colab": {
          "base_uri": "https://localhost:8080/",
          "height": 195
        },
        "id": "NylR8W0Adp4s",
        "outputId": "a16a7441-5b69-4a52-862d-c5ee4b411814"
      },
      "source": [
        "# Balancing the data\n",
        "train_data_nonDup = train_data[train_data['is_duplicate'] == 0]\n",
        "train_data_Dup = train_data[train_data['is_duplicate'] == 1]\n",
        "totalFrame = [train_data_nonDup.sample(train_data_nonDup.shape[0]-105700), train_data_Dup]\n",
        "data_new = pd.concat(totalFrame)\n",
        "data_new.sort_values('id', axis=0, ascending=True, inplace=True)\n",
        "data_new.reset_index(drop = True, inplace = True)\n",
        "data_new.head()\n"
      ],
      "execution_count": null,
      "outputs": [
        {
          "output_type": "execute_result",
          "data": {
            "text/html": [
              "<div>\n",
              "<style scoped>\n",
              "    .dataframe tbody tr th:only-of-type {\n",
              "        vertical-align: middle;\n",
              "    }\n",
              "\n",
              "    .dataframe tbody tr th {\n",
              "        vertical-align: top;\n",
              "    }\n",
              "\n",
              "    .dataframe thead th {\n",
              "        text-align: right;\n",
              "    }\n",
              "</style>\n",
              "<table border=\"1\" class=\"dataframe\">\n",
              "  <thead>\n",
              "    <tr style=\"text-align: right;\">\n",
              "      <th></th>\n",
              "      <th>id</th>\n",
              "      <th>qid1</th>\n",
              "      <th>qid2</th>\n",
              "      <th>question1</th>\n",
              "      <th>question2</th>\n",
              "      <th>is_duplicate</th>\n",
              "    </tr>\n",
              "  </thead>\n",
              "  <tbody>\n",
              "    <tr>\n",
              "      <th>0</th>\n",
              "      <td>0</td>\n",
              "      <td>1</td>\n",
              "      <td>2</td>\n",
              "      <td>What is the step by step guide to invest in sh...</td>\n",
              "      <td>What is the step by step guide to invest in sh...</td>\n",
              "      <td>0</td>\n",
              "    </tr>\n",
              "    <tr>\n",
              "      <th>1</th>\n",
              "      <td>1</td>\n",
              "      <td>3</td>\n",
              "      <td>4</td>\n",
              "      <td>What is the story of Kohinoor (Koh-i-Noor) Dia...</td>\n",
              "      <td>What would happen if the Indian government sto...</td>\n",
              "      <td>0</td>\n",
              "    </tr>\n",
              "    <tr>\n",
              "      <th>2</th>\n",
              "      <td>2</td>\n",
              "      <td>5</td>\n",
              "      <td>6</td>\n",
              "      <td>How can I increase the speed of my internet co...</td>\n",
              "      <td>How can Internet speed be increased by hacking...</td>\n",
              "      <td>0</td>\n",
              "    </tr>\n",
              "    <tr>\n",
              "      <th>3</th>\n",
              "      <td>3</td>\n",
              "      <td>7</td>\n",
              "      <td>8</td>\n",
              "      <td>Why am I mentally very lonely? How can I solve...</td>\n",
              "      <td>Find the remainder when [math]23^{24}[/math] i...</td>\n",
              "      <td>0</td>\n",
              "    </tr>\n",
              "    <tr>\n",
              "      <th>4</th>\n",
              "      <td>4</td>\n",
              "      <td>9</td>\n",
              "      <td>10</td>\n",
              "      <td>Which one dissolve in water quikly sugar, salt...</td>\n",
              "      <td>Which fish would survive in salt water?</td>\n",
              "      <td>0</td>\n",
              "    </tr>\n",
              "  </tbody>\n",
              "</table>\n",
              "</div>"
            ],
            "text/plain": [
              "   id  qid1  ...                                          question2 is_duplicate\n",
              "0   0     1  ...  What is the step by step guide to invest in sh...            0\n",
              "1   1     3  ...  What would happen if the Indian government sto...            0\n",
              "2   2     5  ...  How can Internet speed be increased by hacking...            0\n",
              "3   3     7  ...  Find the remainder when [math]23^{24}[/math] i...            0\n",
              "4   4     9  ...            Which fish would survive in salt water?            0\n",
              "\n",
              "[5 rows x 6 columns]"
            ]
          },
          "metadata": {
            "tags": []
          },
          "execution_count": 44
        }
      ]
    },
    {
      "cell_type": "code",
      "metadata": {
        "colab": {
          "base_uri": "https://localhost:8080/",
          "height": 506
        },
        "id": "ZAwXYTexFbfP",
        "outputId": "cca312e2-ef3f-4e2b-805a-8544fe492988"
      },
      "source": [
        "label_name = data_new['is_duplicate'].map({0:\"Not-Duplicate\", 1:\"Duplicate\"})\n",
        "fig = plt.figure(figsize = (8, 6))\n",
        "axes = fig.add_axes([0.1,0.1,1,1])\n",
        "axes.set_title(\"Counts of Duplicate Vs Non-Duplicate Questions\", fontsize = 20)\n",
        "axes.set_ylabel(\"Count\", fontsize = 20)\n",
        "axes.tick_params(labelsize = 15)\n",
        "sns.countplot(list(label_name), ax = axes)\n",
        "for i in axes.patches:\n",
        "    axes.text(i.get_x()+0.3, i.get_height()+1000, str(round(i.get_height(), 2)), fontsize=20, color='black')\n",
        "plt.show()"
      ],
      "execution_count": null,
      "outputs": [
        {
          "output_type": "display_data",
          "data": {
            "image/png": "[encoded data removed]",
            "text/plain": [
              "<Figure size 576x432 with 1 Axes>"
            ]
          },
          "metadata": {
            "tags": [],
            "needs_background": "light"
          }
        }
      ]
    },
    {
      "cell_type": "code",
      "metadata": {
        "colab": {
          "base_uri": "https://localhost:8080/"
        },
        "id": "nzLzscXXekzE",
        "outputId": "f0c883b9-aca4-408b-b9bc-1b47baf84c41"
      },
      "source": [
        "data_new['is_duplicate'].value_counts()\n"
      ],
      "execution_count": null,
      "outputs": [
        {
          "output_type": "execute_result",
          "data": {
            "text/plain": [
              "0    149324\n",
              "1    149263\n",
              "Name: is_duplicate, dtype: int64"
            ]
          },
          "metadata": {
            "tags": []
          },
          "execution_count": 45
        }
      ]
    },
    {
      "cell_type": "markdown",
      "metadata": {
        "id": "jLvYuBUaheLM"
      },
      "source": [
        "3 Number of Unique Questions"
      ]
    },
    {
      "cell_type": "code",
      "metadata": {
        "colab": {
          "base_uri": "https://localhost:8080/"
        },
        "id": "nMxFeUrEhWUt",
        "outputId": "6f9d69e2-da94-4d62-cd7c-a07a0779b689"
      },
      "source": [
        "# Filtered Dataset\n",
        "data_new['is_duplicate'].value_counts()\n"
      ],
      "execution_count": null,
      "outputs": [
        {
          "output_type": "execute_result",
          "data": {
            "text/plain": [
              "0    149324\n",
              "1    149263\n",
              "Name: is_duplicate, dtype: int64"
            ]
          },
          "metadata": {
            "tags": []
          },
          "execution_count": 3
        }
      ]
    },
    {
      "cell_type": "code",
      "metadata": {
        "colab": {
          "base_uri": "https://localhost:8080/"
        },
        "id": "Fvx_THn3imdu",
        "outputId": "4cf86ee9-73c3-4ad9-cb71-32bb710ad569"
      },
      "source": [
        "total_ques = pd.Series(data_new['qid1'].tolist() + data_new['qid2'].tolist()) #here, by addition all of the elements of\n",
        "#both the arrays will merge into one big array. So, now 'total_ques' contains ids of both 'qid1' and 'qid2' in one big array.\n",
        "unique_ques = len(np.unique(total_ques))\n",
        "non_unique_ques = np.sum(total_ques.value_counts()>1) #now, the value_counts() have the values greater than one for all those \n",
        "#elements who are occurring more than one. So, this give give us the count of all the number of repeated questions.\n",
        "print(\"Total number of unique questions = \"+str(unique_ques))\n",
        "print(\"Total number of unique questions that appeared more than one time = \"+str(non_unique_ques))\n",
        "print(\"Question which appeared most number of times = \"+str(max(total_ques.value_counts())))"
      ],
      "execution_count": null,
      "outputs": [
        {
          "output_type": "stream",
          "text": [
            "Total number of unique questions = 390952\n",
            "Total number of unique questions that appeared more than one time = 79115\n",
            "Question which appeared most number of times = 107\n"
          ],
          "name": "stdout"
        }
      ]
    },
    {
      "cell_type": "markdown",
      "metadata": {
        "id": "7wY2IUXIiybD"
      },
      "source": [
        "4 Checking for Duplicates"
      ]
    },
    {
      "cell_type": "code",
      "metadata": {
        "colab": {
          "base_uri": "https://localhost:8080/"
        },
        "id": "DcMOgzqEi7XB",
        "outputId": "41963f2c-ae39-478c-e740-59874a4dde2c"
      },
      "source": [
        "data_duplicates = data_new[['qid1','qid2', 'question1','question2','is_duplicate']].groupby(['qid1', 'qid2']).count()\n",
        "print(\"Numbr of duplicate entries = \"+str(data_new.shape[0] - data_duplicates.shape[0]))"
      ],
      "execution_count": null,
      "outputs": [
        {
          "output_type": "stream",
          "text": [
            "Numbr of duplicate entries = 0\n"
          ],
          "name": "stdout"
        }
      ]
    },
    {
      "cell_type": "code",
      "metadata": {
        "colab": {
          "base_uri": "https://localhost:8080/"
        },
        "id": "rZNSvSUpjApa",
        "outputId": "9f2014ea-11b7-4e30-fb5e-22126371e881"
      },
      "source": [
        "# Download of Lexical Database\n",
        "import nltk\n",
        "nltk.download('stopwords')\n",
        "nltk.download('brown')\n",
        "nltk.download('wordnet')"
      ],
      "execution_count": null,
      "outputs": [
        {
          "output_type": "stream",
          "text": [
            "[nltk_data] Downloading package stopwords to\n",
            "[nltk_data]     C:\\Users\\Tanvi\\AppData\\Roaming\\nltk_data...\n",
            "[nltk_data]   Package stopwords is already up-to-date!\n",
            "[nltk_data] Downloading package brown to\n",
            "[nltk_data]     C:\\Users\\Tanvi\\AppData\\Roaming\\nltk_data...\n",
            "[nltk_data]   Package brown is already up-to-date!\n",
            "[nltk_data] Downloading package wordnet to\n",
            "[nltk_data]     C:\\Users\\Tanvi\\AppData\\Roaming\\nltk_data...\n",
            "[nltk_data]   Package wordnet is already up-to-date!\n"
          ],
          "name": "stdout"
        },
        {
          "output_type": "execute_result",
          "data": {
            "text/plain": [
              "True"
            ]
          },
          "metadata": {
            "tags": []
          },
          "execution_count": 4
        }
      ]
    },
    {
      "cell_type": "markdown",
      "metadata": {
        "id": "VlwrX5_rRLlM"
      },
      "source": [
        "# Data Preprocessing "
      ]
    },
    {
      "cell_type": "code",
      "metadata": {
        "id": "CUlwQ1iMtvXy"
      },
      "source": [
        "# preprocessing the data\n",
        "SAFE_DIV = 0.0001 \n",
        "\n",
        "STOP_WORDS = stopwords.words(\"english\")\n",
        "\n",
        "\n",
        "def preprocess(x):\n",
        "    x = str(x).lower()\n",
        "    x = x.replace(\",000,000\", \"m\").replace(\",000\", \"k\").replace(\"′\", \"'\").replace(\"’\", \"'\")\\\n",
        "                           .replace(\"won't\", \"will not\").replace(\"cannot\", \"can not\").replace(\"can't\", \"can not\")\\\n",
        "                           .replace(\"n't\", \" not\").replace(\"what's\", \"what is\").replace(\"it's\", \"it is\")\\\n",
        "                           .replace(\"'ve\", \" have\").replace(\"i'm\", \"i am\").replace(\"'re\", \" are\")\\\n",
        "                           .replace(\"he's\", \"he is\").replace(\"she's\", \"she is\").replace(\"'s\", \" own\")\\\n",
        "                           .replace(\"%\", \" percent \").replace(\"₹\", \" rupee \").replace(\"$\", \" dollar \")\\\n",
        "                           .replace(\"€\", \" euro \").replace(\"'ll\", \" will\")\n",
        "    x = re.sub(r\"([0-9]+)000000\", r\"\\1m\", x)\n",
        "    x = re.sub(r\"([0-9]+)000\", r\"\\1k\", x)\n",
        "    \n",
        "    \n",
        "    porter = PorterStemmer()\n",
        "    pattern = re.compile('\\W')\n",
        "    \n",
        "    if type(x) == type(''):\n",
        "        x = re.sub(pattern, ' ', x)\n",
        "    \n",
        "    \n",
        "    if type(x) == type(''):\n",
        "        x = porter.stem(x)\n",
        "        example1 = BeautifulSoup(x)\n",
        "        x = example1.get_text()\n",
        "                   \n",
        "\n",
        "    return x"
      ],
      "execution_count": null,
      "outputs": []
    },
    {
      "cell_type": "code",
      "metadata": {
        "id": "CpjdP_YmuO2h"
      },
      "source": [
        "#preprocessed data\n",
        "data_new[\"question1\"] = data_new[\"question1\"].fillna(\"\").apply(preprocess)\n",
        "data_new[\"question2\"] = data_new[\"question2\"].fillna(\"\").apply(preprocess)"
      ],
      "execution_count": null,
      "outputs": []
    },
    {
      "cell_type": "code",
      "metadata": {
        "colab": {
          "base_uri": "https://localhost:8080/",
          "height": 402
        },
        "id": "SHa6uFsnwDTL",
        "outputId": "7c09ec5e-29f8-448a-f658-635889a15b5b"
      },
      "source": [
        "data_new"
      ],
      "execution_count": null,
      "outputs": [
        {
          "output_type": "execute_result",
          "data": {
            "text/html": [
              "<div>\n",
              "<style scoped>\n",
              "    .dataframe tbody tr th:only-of-type {\n",
              "        vertical-align: middle;\n",
              "    }\n",
              "\n",
              "    .dataframe tbody tr th {\n",
              "        vertical-align: top;\n",
              "    }\n",
              "\n",
              "    .dataframe thead th {\n",
              "        text-align: right;\n",
              "    }\n",
              "</style>\n",
              "<table border=\"1\" class=\"dataframe\">\n",
              "  <thead>\n",
              "    <tr style=\"text-align: right;\">\n",
              "      <th></th>\n",
              "      <th>Unnamed: 0</th>\n",
              "      <th>id</th>\n",
              "      <th>qid1</th>\n",
              "      <th>qid2</th>\n",
              "      <th>question1</th>\n",
              "      <th>question2</th>\n",
              "      <th>is_duplicate</th>\n",
              "    </tr>\n",
              "  </thead>\n",
              "  <tbody>\n",
              "    <tr>\n",
              "      <th>0</th>\n",
              "      <td>0</td>\n",
              "      <td>0</td>\n",
              "      <td>1</td>\n",
              "      <td>2</td>\n",
              "      <td>what is the step by step guide to invest in sh...</td>\n",
              "      <td>what is the step by step guide to invest in sh...</td>\n",
              "      <td>0</td>\n",
              "    </tr>\n",
              "    <tr>\n",
              "      <th>1</th>\n",
              "      <td>1</td>\n",
              "      <td>1</td>\n",
              "      <td>3</td>\n",
              "      <td>4</td>\n",
              "      <td>what is the story of kohinoor  koh i noor  dia...</td>\n",
              "      <td>what would happen if the indian government sto...</td>\n",
              "      <td>0</td>\n",
              "    </tr>\n",
              "    <tr>\n",
              "      <th>2</th>\n",
              "      <td>2</td>\n",
              "      <td>2</td>\n",
              "      <td>5</td>\n",
              "      <td>6</td>\n",
              "      <td>how can i increase the speed of my internet co...</td>\n",
              "      <td>how can internet speed be increased by hacking...</td>\n",
              "      <td>0</td>\n",
              "    </tr>\n",
              "    <tr>\n",
              "      <th>3</th>\n",
              "      <td>3</td>\n",
              "      <td>3</td>\n",
              "      <td>7</td>\n",
              "      <td>8</td>\n",
              "      <td>why am i mentally very lonely  how can i solve...</td>\n",
              "      <td>find the remainder when  math 23  24   math  i...</td>\n",
              "      <td>0</td>\n",
              "    </tr>\n",
              "    <tr>\n",
              "      <th>4</th>\n",
              "      <td>4</td>\n",
              "      <td>4</td>\n",
              "      <td>9</td>\n",
              "      <td>10</td>\n",
              "      <td>which one dissolve in water quikly sugar  salt...</td>\n",
              "      <td>which fish would survive in salt water</td>\n",
              "      <td>0</td>\n",
              "    </tr>\n",
              "    <tr>\n",
              "      <th>...</th>\n",
              "      <td>...</td>\n",
              "      <td>...</td>\n",
              "      <td>...</td>\n",
              "      <td>...</td>\n",
              "      <td>...</td>\n",
              "      <td>...</td>\n",
              "      <td>...</td>\n",
              "    </tr>\n",
              "    <tr>\n",
              "      <th>298582</th>\n",
              "      <td>298582</td>\n",
              "      <td>404280</td>\n",
              "      <td>537922</td>\n",
              "      <td>537923</td>\n",
              "      <td>what are some outfit ideas to wear to a frat p...</td>\n",
              "      <td>what are some outfit ideas wear to a frat them...</td>\n",
              "      <td>1</td>\n",
              "    </tr>\n",
              "    <tr>\n",
              "      <th>298583</th>\n",
              "      <td>298583</td>\n",
              "      <td>404281</td>\n",
              "      <td>99131</td>\n",
              "      <td>81495</td>\n",
              "      <td>why is manaphy childish in pokémon ranger and ...</td>\n",
              "      <td>why is manaphy annoying in pokemon ranger and ...</td>\n",
              "      <td>1</td>\n",
              "    </tr>\n",
              "    <tr>\n",
              "      <th>298584</th>\n",
              "      <td>298584</td>\n",
              "      <td>404282</td>\n",
              "      <td>1931</td>\n",
              "      <td>16773</td>\n",
              "      <td>how does a long distance relationship work</td>\n",
              "      <td>how are long distance relationships maintained</td>\n",
              "      <td>1</td>\n",
              "    </tr>\n",
              "    <tr>\n",
              "      <th>298585</th>\n",
              "      <td>298585</td>\n",
              "      <td>404284</td>\n",
              "      <td>537926</td>\n",
              "      <td>537927</td>\n",
              "      <td>what does jainism say about homosexuality</td>\n",
              "      <td>what does jainism say about gays and homosexua...</td>\n",
              "      <td>1</td>\n",
              "    </tr>\n",
              "    <tr>\n",
              "      <th>298586</th>\n",
              "      <td>298586</td>\n",
              "      <td>404286</td>\n",
              "      <td>18840</td>\n",
              "      <td>155606</td>\n",
              "      <td>do you believe there is life after death</td>\n",
              "      <td>is it true that there is life after death</td>\n",
              "      <td>1</td>\n",
              "    </tr>\n",
              "  </tbody>\n",
              "</table>\n",
              "<p>298587 rows × 7 columns</p>\n",
              "</div>"
            ],
            "text/plain": [
              "        Unnamed: 0  ...  is_duplicate\n",
              "0                0  ...             0\n",
              "1                1  ...             0\n",
              "2                2  ...             0\n",
              "3                3  ...             0\n",
              "4                4  ...             0\n",
              "...            ...  ...           ...\n",
              "298582      298582  ...             1\n",
              "298583      298583  ...             1\n",
              "298584      298584  ...             1\n",
              "298585      298585  ...             1\n",
              "298586      298586  ...             1\n",
              "\n",
              "[298587 rows x 7 columns]"
            ]
          },
          "metadata": {
            "tags": []
          },
          "execution_count": 53
        }
      ]
    },
    {
      "cell_type": "markdown",
      "metadata": {
        "id": "IcxoQofRRaFI"
      },
      "source": [
        "# Feature Extraction\r\n",
        "1. Implementing Semantic Similarity using brown and wordnet database\r\n"
      ]
    },
    {
      "cell_type": "code",
      "metadata": {
        "id": "yCA_8z48TnPq"
      },
      "source": [
        "freq = FreqDist(brown.words())\n",
        "log_words = math.log(len(brown.words()) + 1)\n",
        "\n",
        "#This function is used to calculate the similarity between two words\n",
        "#It takes a word, sentence vector and value as input parameters\n",
        "#It returna a list indicating similarity and index of word matched\n",
        "def similarity(term, sc1, factor):\n",
        "    # try:\n",
        "        if sc1 == [] or sc1 == None:\n",
        "            return [0, None]\n",
        "        sim_list = []\n",
        "        for a in sc1:\n",
        "            v1 = wordnet.synsets(term)\n",
        "            v2 = wordnet.synsets(a)\n",
        "            if v1 == [] or v2 == []:\n",
        "                return [0, None]\n",
        "            else:\n",
        "                v1 = v1[0]\n",
        "                v2 = v2[0]\n",
        "            if v1.path_similarity(v2) != None:\n",
        "                sim_list.append(v1.path_similarity(v2) * v1.wup_similarity(v2))\n",
        "            else:\n",
        "                sim_list.append(0)\n",
        "        if max(sim_list) >= factor:\n",
        "            return [max(sim_list), sim_list.index(max(sim_list))]\n",
        "        else:\n",
        "            return [0, None]\n",
        "    # except:\n",
        "        #print(sc1)\n",
        "\n",
        "#This method is used to compute semantic vector of a given sentence\n",
        "#It takes sentence vector and jointset as input parameters\n",
        "#It returns a semantic vector of a sentence\n",
        "\n",
        "def similarityVector(sc1, joinset):\n",
        "    vector = []\n",
        "    identity = 0\n",
        "    #print(\"similarityVector: \", sc1, joinset)\n",
        "    for term in joinset:\n",
        "        identity = 1 - (math.log(freq[term] + 1)/log_words)\n",
        "        if term in sc1:\n",
        "            vector.append(1 * identity * identity)\n",
        "        else:\n",
        "            sim, termPos = similarity(term,sc1, 0.2)\n",
        "            if termPos == None:\n",
        "                identity = 0\n",
        "            else:\n",
        "                identity = identity * (1 - (math.log(freq[sc1[termPos]] + 1)/log_words))\n",
        "            vector.append(sim * identity)\n",
        "   # print('VEC: ',vector)\n",
        "    return vector\n",
        "\n",
        "#This method measures the cosine similarity between two vectors\n",
        "#This method takes semantic vector of two sentences as input parameters\n",
        "#It returns a value between 0 and 1\n",
        "def cosineSimilarity(v1,v2):\n",
        "    mod_v1 = 0\n",
        "    mod_v2 = 0\n",
        "    cos = 0\n",
        "    dot_product = 0\n",
        "    # print('v1: ', v1)\n",
        "    # print('v2: ', v2)\n",
        "    for i in range(len(v2)):\n",
        "        mod_v1 = mod_v1 + v1[i]*v1[i]\n",
        "        mod_v2 = mod_v2 + v2[i]*v2[i]\n",
        "        dot_product = dot_product + v1[i]*v2[i]\n",
        "        if mod_v1 == 0 or mod_v2 == 0:\n",
        "            return 0 \n",
        "        cos = float(dot_product)/float((mod_v1*mod_v2)**0.5)   \n",
        "    return cos\n",
        "\n",
        "#This function determines the Word order vector of a sentence\n",
        "#It takes sentence vector and joint set as input parameters    \n",
        "#It returns an order vector for sentence\n",
        "def orderVector(sc1, joinset):\n",
        "    vector = []\n",
        "    indexPos = None\n",
        "    for term in joinset:\n",
        "        if term in sc1:\n",
        "            vector.append(sc1.index(term))\n",
        "        else:\n",
        "            indexPos = similarity(term, sc1, 0.4)[1]\n",
        "            if indexPos == None:\n",
        "                vector.append(0)\n",
        "            else:\n",
        "                vector.append(indexPos)\n",
        "    return vector\n",
        "\n",
        "#This method measures order similarity between two vectors\n",
        "#This method takes order vector of two sentences as input parameters\n",
        "#It returns a value between 0 and 1\n",
        "def orderSimilarity(v1, v2):\n",
        "    mod1 = 0\n",
        "    mod2 = 1\n",
        "    for i in range(len(v1)):\n",
        "        mod1 = mod1 + (v1[i] - v2[i]) * (v1[i] - v2[i])\n",
        "        mod2 = mod2 + (v1[i] + v2[i]) * (v1[i] + v2[i])\n",
        "    return 1 - math.sqrt(mod1/mod2)\n",
        "\n",
        "#data INPUT   \n",
        "dataset = data_new\n",
        "X = dataset.iloc[:, :-1].values\n",
        "Y = dataset.iloc[:, 6].values\n",
        "result = 0\n",
        "count = 0\n",
        "total = 0\n",
        "semanticList = []\n",
        "orderList = []\n",
        "for k in range(0, len(Y)):\n",
        "    total = total + 1\n",
        "    # print(total)\n",
        "    a1 = X[k][4].split()\n",
        "    a2 = X[k][5].split()\n",
        "\n",
        "    joinset = set()\n",
        "    for i in range(len(a1)):\n",
        "        a1[i] = a1[i].lower()\n",
        "        joinset.add(a1[i])\n",
        "    for i in range(len(a2)):\n",
        "        a2[i] = a2[i].lower()\n",
        "        joinset.add(a2[i])\n",
        "    joinset = list(joinset)\n",
        "    sem_vector1 = []\n",
        "    sem_vector2 = []\n",
        "    order_vector1 = []\n",
        "    order_vector2 = []\n",
        "    try:\n",
        "        sem_vector1 = similarityVector(a1, joinset)\n",
        "        sem_vector2 = similarityVector(a2, joinset)\n",
        "        \n",
        "        order_vector1 = orderVector(a1, joinset)\n",
        "        order_vector2 = orderVector(a2, joinset)\n",
        "    except e:\n",
        "      #print(\"in except\", e)\n",
        "      #print(a1)\n",
        "      #print(a2)\n",
        "      #print(k)\n",
        "      # print(sem_vector1)\n",
        "      # print(sem_vector2)\n",
        "      pass\n",
        "            \n",
        "    #print(joinset)\n",
        "    #print(sem_vector1)\n",
        "    #print(sem_vector2)\n",
        "    #print(order_vector1)\n",
        "    #print(order_vector2)\n",
        "\n",
        "    semantic = cosineSimilarity(sem_vector1, sem_vector2)\n",
        "    order = orderSimilarity(order_vector1, order_vector2)\n",
        "    semanticList.append(semantic)\n",
        "    orderList.append(order)\n",
        "    #print('semantic',semantic)\n",
        "    #print(order)\n",
        "    delta = 0.85\n",
        "    similarity_final = delta * semantic + order * (1 - delta)   \n",
        "    #print('similarity:'+ str(similarity_final))\n",
        "    if similarity_final >= 0.75:\n",
        "        result = 1\n",
        "    else:\n",
        "        result = 0\n",
        "    if result == Y[k]:\n",
        "        count = count + 1\n",
        "\n",
        "#print(\"The Accuracy of this model is:\",count/404289)\n"
      ],
      "execution_count": null,
      "outputs": []
    },
    {
      "cell_type": "markdown",
      "metadata": {
        "id": "ZoiUsGhsOZ3R"
      },
      "source": [
        "**In summary, similarity between words is determined not only by path lengths but also by depth.**"
      ]
    },
    {
      "cell_type": "code",
      "metadata": {
        "colab": {
          "base_uri": "https://localhost:8080/",
          "height": 195
        },
        "id": "oizNw_WKANoZ",
        "outputId": "92367ea0-a044-4d45-c6ce-b4b51405466b"
      },
      "source": [
        "data_new['Cosine_Sim'] = semanticList\n",
        "data_new['Order_Sim'] = orderList\n",
        "data_new.head()"
      ],
      "execution_count": null,
      "outputs": [
        {
          "output_type": "execute_result",
          "data": {
            "text/html": [
              "<div>\n",
              "<style scoped>\n",
              "    .dataframe tbody tr th:only-of-type {\n",
              "        vertical-align: middle;\n",
              "    }\n",
              "\n",
              "    .dataframe tbody tr th {\n",
              "        vertical-align: top;\n",
              "    }\n",
              "\n",
              "    .dataframe thead th {\n",
              "        text-align: right;\n",
              "    }\n",
              "</style>\n",
              "<table border=\"1\" class=\"dataframe\">\n",
              "  <thead>\n",
              "    <tr style=\"text-align: right;\">\n",
              "      <th></th>\n",
              "      <th>Unnamed: 0</th>\n",
              "      <th>id</th>\n",
              "      <th>qid1</th>\n",
              "      <th>qid2</th>\n",
              "      <th>question1</th>\n",
              "      <th>question2</th>\n",
              "      <th>is_duplicate</th>\n",
              "      <th>Cosine_Sim</th>\n",
              "      <th>Order_Sim</th>\n",
              "    </tr>\n",
              "  </thead>\n",
              "  <tbody>\n",
              "    <tr>\n",
              "      <th>0</th>\n",
              "      <td>0</td>\n",
              "      <td>0</td>\n",
              "      <td>1</td>\n",
              "      <td>2</td>\n",
              "      <td>what is the step by step guide to invest in sh...</td>\n",
              "      <td>what is the step by step guide to invest in sh...</td>\n",
              "      <td>0</td>\n",
              "      <td>0.786447</td>\n",
              "      <td>0.715911</td>\n",
              "    </tr>\n",
              "    <tr>\n",
              "      <th>1</th>\n",
              "      <td>1</td>\n",
              "      <td>1</td>\n",
              "      <td>3</td>\n",
              "      <td>4</td>\n",
              "      <td>what is the story of kohinoor  koh i noor  dia...</td>\n",
              "      <td>what would happen if the indian government sto...</td>\n",
              "      <td>0</td>\n",
              "      <td>0.806139</td>\n",
              "      <td>0.541225</td>\n",
              "    </tr>\n",
              "    <tr>\n",
              "      <th>2</th>\n",
              "      <td>2</td>\n",
              "      <td>2</td>\n",
              "      <td>5</td>\n",
              "      <td>6</td>\n",
              "      <td>how can i increase the speed of my internet co...</td>\n",
              "      <td>how can internet speed be increased by hacking...</td>\n",
              "      <td>0</td>\n",
              "      <td>0.000000</td>\n",
              "      <td>0.056788</td>\n",
              "    </tr>\n",
              "    <tr>\n",
              "      <th>3</th>\n",
              "      <td>3</td>\n",
              "      <td>3</td>\n",
              "      <td>7</td>\n",
              "      <td>8</td>\n",
              "      <td>why am i mentally very lonely  how can i solve...</td>\n",
              "      <td>find the remainder when  math 23  24   math  i...</td>\n",
              "      <td>0</td>\n",
              "      <td>0.000000</td>\n",
              "      <td>0.000760</td>\n",
              "    </tr>\n",
              "    <tr>\n",
              "      <th>4</th>\n",
              "      <td>4</td>\n",
              "      <td>4</td>\n",
              "      <td>9</td>\n",
              "      <td>10</td>\n",
              "      <td>which one dissolve in water quikly sugar  salt...</td>\n",
              "      <td>which fish would survive in salt water</td>\n",
              "      <td>0</td>\n",
              "      <td>0.000000</td>\n",
              "      <td>0.176834</td>\n",
              "    </tr>\n",
              "  </tbody>\n",
              "</table>\n",
              "</div>"
            ],
            "text/plain": [
              "   Unnamed: 0  id  qid1  ...  is_duplicate Cosine_Sim Order_Sim\n",
              "0           0   0     1  ...             0   0.786447  0.715911\n",
              "1           1   1     3  ...             0   0.806139  0.541225\n",
              "2           2   2     5  ...             0   0.000000  0.056788\n",
              "3           3   3     7  ...             0   0.000000  0.000760\n",
              "4           4   4     9  ...             0   0.000000  0.176834\n",
              "\n",
              "[5 rows x 9 columns]"
            ]
          },
          "metadata": {
            "tags": []
          },
          "execution_count": 55
        }
      ]
    },
    {
      "cell_type": "markdown",
      "metadata": {
        "id": "D-nU33GlStjG"
      },
      "source": [
        "**Conclusion: From this Project, we came to know that the Similarity Metrics used for calculating Document Similarity cannot be applied to compute Short Text Sentence Similarity. For this, we have to predict the similarity something nearer to Human Intuition. We made efforts to achieve something nearer to human intuition, in this project.\r\n"
      ]
    },
    {
      "cell_type": "markdown",
      "metadata": {
        "id": "--bGn_Da1JVe"
      },
      "source": [
        "2. Implementing fuzzy wuzzy for feature extraction"
      ]
    },
    {
      "cell_type": "code",
      "metadata": {
        "id": "sDFCzSEzImY8"
      },
      "source": [
        "def get_token_features(q1, q2):\n",
        "    token_features = [0.0]*10\n",
        "    \n",
        "    # Converting the Sentence into Tokens: \n",
        "    q1_tokens = q1.split()\n",
        "    q2_tokens = q2.split()\n",
        "\n",
        "    if len(q1_tokens) == 0 or len(q2_tokens) == 0:\n",
        "        return token_features\n",
        "    # Get the non-stopwords in Questions  \n",
        "    q1_words = set([word for word in q1_tokens if word not in STOP_WORDS])\n",
        "    q2_words = set([word for word in q2_tokens if word not in STOP_WORDS])\n",
        "    \n",
        "    #Get the stopwords in Questions\n",
        "    q1_stops = set([word for word in q1_tokens if word in STOP_WORDS])\n",
        "    q2_stops = set([word for word in q2_tokens if word in STOP_WORDS])\n",
        "    \n",
        "    # Get the common non-stopwords from Question pair\n",
        "    common_word_count = len(q1_words.intersection(q2_words))\n",
        "    \n",
        "    # Get the common stopwords from Question pair\n",
        "    common_stop_count = len(q1_stops.intersection(q2_stops))\n",
        "    \n",
        "    # Get the common Tokens from Question pair\n",
        "    common_token_count = len(set(q1_tokens).intersection(set(q2_tokens)))\n",
        "    \n",
        "    \n",
        "    token_features[0] = common_word_count / (min(len(q1_words), len(q2_words)) + SAFE_DIV)\n",
        "    token_features[1] = common_word_count / (max(len(q1_words), len(q2_words)) + SAFE_DIV)\n",
        "    token_features[2] = common_stop_count / (min(len(q1_stops), len(q2_stops)) + SAFE_DIV)\n",
        "    token_features[3] = common_stop_count / (max(len(q1_stops), len(q2_stops)) + SAFE_DIV)\n",
        "    token_features[4] = common_token_count / (min(len(q1_tokens), len(q2_tokens)) + SAFE_DIV)\n",
        "    token_features[5] = common_token_count / (max(len(q1_tokens), len(q2_tokens)) + SAFE_DIV)\n",
        "    \n",
        "    # Last word of both question is same or not\n",
        "    token_features[6] = int(q1_tokens[-1] == q2_tokens[-1])\n",
        "    \n",
        "    # First word of both question is same or not\n",
        "    token_features[7] = int(q1_tokens[0] == q2_tokens[0])\n",
        "    \n",
        "    token_features[8] = abs(len(q1_tokens) - len(q2_tokens))\n",
        "    \n",
        "    #Average Token Length of both Questions\n",
        "    token_features[9] = (len(q1_tokens) + len(q2_tokens))/2\n",
        "    return token_features\n",
        "\n",
        "# get the Longest Common sub string\n",
        "\n",
        "def get_longest_substr_ratio(a, b):\n",
        "    strs = list(distance.lcsubstrings(a, b))\n",
        "    if len(strs) == 0:\n",
        "        return 0\n",
        "    else:\n",
        "        return len(strs[0]) / (min(len(a), len(b)) + 1)\n",
        "\n",
        "def extract_features(train_data):\n",
        "    # preprocessing each question\n",
        "    train_data[\"question1\"] = train_data[\"question1\"].fillna(\"\").apply(preprocess)\n",
        "    train_data[\"question2\"] = train_data[\"question2\"].fillna(\"\").apply(preprocess)\n",
        "\n",
        "    print(\"token features...\")\n",
        "    \n",
        "    # Merging Features with dataset\n",
        "    \n",
        "    token_features = train_data.apply(lambda x: get_token_features(x[\"question1\"], x[\"question2\"]), axis=1)\n",
        "    \n",
        "    train_data[\"cwc_min\"]       = list(map(lambda x: x[0], token_features))\n",
        "    train_data[\"cwc_max\"]       = list(map(lambda x: x[1], token_features))\n",
        "    train_data[\"csc_min\"]       = list(map(lambda x: x[2], token_features))\n",
        "    train_data[\"csc_max\"]       = list(map(lambda x: x[3], token_features))\n",
        "    train_data[\"ctc_min\"]       = list(map(lambda x: x[4], token_features))\n",
        "    train_data[\"ctc_max\"]       = list(map(lambda x: x[5], token_features))\n",
        "    train_data[\"last_word_eq\"]  = list(map(lambda x: x[6], token_features))\n",
        "    train_data[\"first_word_eq\"] = list(map(lambda x: x[7], token_features))\n",
        "    train_data[\"abs_len_diff\"]  = list(map(lambda x: x[8], token_features))\n",
        "    train_data[\"mean_len\"]      = list(map(lambda x: x[9], token_features))\n",
        "   \n",
        "    #Computing Fuzzy Features and Merging with Dataset\n",
        "    print(\"fuzzy features..\")\n",
        "\n",
        "    train_data[\"token_set_ratio\"]       = train_data.apply(lambda x: fuzz.token_set_ratio(x[\"question1\"], x[\"question2\"]), axis=1)\n",
        "    # The token sort approach involves tokenizing the string in question, sorting the tokens alphabetically, and \n",
        "    # then joining them back into a string We then compare the transformed strings with a simple ratio().\n",
        "    train_data[\"token_sort_ratio\"]      = train_data.apply(lambda x: fuzz.token_sort_ratio(x[\"question1\"], x[\"question2\"]), axis=1)\n",
        "    train_data[\"fuzz_ratio\"]            = train_data.apply(lambda x: fuzz.QRatio(x[\"question1\"], x[\"question2\"]), axis=1)\n",
        "    train_data[\"fuzz_partial_ratio\"]    = train_data.apply(lambda x: fuzz.partial_ratio(x[\"question1\"], x[\"question2\"]), axis=1)\n",
        "    train_data[\"longest_substr_ratio\"]  = train_data.apply(lambda x: get_longest_substr_ratio(x[\"question1\"], x[\"question2\"]), axis=1)\n",
        "    return train_data"
      ],
      "execution_count": null,
      "outputs": []
    },
    {
      "cell_type": "code",
      "metadata": {
        "colab": {
          "base_uri": "https://localhost:8080/"
        },
        "id": "cRA4QtOQ60tB",
        "outputId": "0ddbe340-ee70-4b69-bd96-783184479001"
      },
      "source": [
        "fuzzy_data = extract_features(data_new)"
      ],
      "execution_count": null,
      "outputs": [
        {
          "output_type": "stream",
          "text": [
            "token features...\n",
            "fuzzy features..\n"
          ],
          "name": "stdout"
        }
      ]
    },
    {
      "cell_type": "code",
      "metadata": {
        "colab": {
          "base_uri": "https://localhost:8080/",
          "height": 959
        },
        "id": "RsvhN3ldDUYs",
        "outputId": "75bd8228-7773-468a-b69a-f5852f020a29"
      },
      "source": [
        "fuzzy_data"
      ],
      "execution_count": null,
      "outputs": [
        {
          "output_type": "execute_result",
          "data": {
            "text/html": [
              "<div>\n",
              "<style scoped>\n",
              "    .dataframe tbody tr th:only-of-type {\n",
              "        vertical-align: middle;\n",
              "    }\n",
              "\n",
              "    .dataframe tbody tr th {\n",
              "        vertical-align: top;\n",
              "    }\n",
              "\n",
              "    .dataframe thead th {\n",
              "        text-align: right;\n",
              "    }\n",
              "</style>\n",
              "<table border=\"1\" class=\"dataframe\">\n",
              "  <thead>\n",
              "    <tr style=\"text-align: right;\">\n",
              "      <th></th>\n",
              "      <th>Unnamed: 0</th>\n",
              "      <th>id</th>\n",
              "      <th>qid1</th>\n",
              "      <th>qid2</th>\n",
              "      <th>question1</th>\n",
              "      <th>question2</th>\n",
              "      <th>is_duplicate</th>\n",
              "      <th>cwc_min</th>\n",
              "      <th>cwc_max</th>\n",
              "      <th>csc_min</th>\n",
              "      <th>...</th>\n",
              "      <th>ctc_max</th>\n",
              "      <th>last_word_eq</th>\n",
              "      <th>first_word_eq</th>\n",
              "      <th>abs_len_diff</th>\n",
              "      <th>mean_len</th>\n",
              "      <th>token_set_ratio</th>\n",
              "      <th>token_sort_ratio</th>\n",
              "      <th>fuzz_ratio</th>\n",
              "      <th>fuzz_partial_ratio</th>\n",
              "      <th>longest_substr_ratio</th>\n",
              "    </tr>\n",
              "  </thead>\n",
              "  <tbody>\n",
              "    <tr>\n",
              "      <th>0</th>\n",
              "      <td>0</td>\n",
              "      <td>0</td>\n",
              "      <td>1</td>\n",
              "      <td>2</td>\n",
              "      <td>what is the step by step guide to invest in sh...</td>\n",
              "      <td>what is the step by step guide to invest in sh...</td>\n",
              "      <td>0</td>\n",
              "      <td>0.999980</td>\n",
              "      <td>0.833319</td>\n",
              "      <td>0.999983</td>\n",
              "      <td>...</td>\n",
              "      <td>0.785709</td>\n",
              "      <td>0.0</td>\n",
              "      <td>1.0</td>\n",
              "      <td>2.0</td>\n",
              "      <td>13.0</td>\n",
              "      <td>100</td>\n",
              "      <td>93</td>\n",
              "      <td>93</td>\n",
              "      <td>100</td>\n",
              "      <td>0.982759</td>\n",
              "    </tr>\n",
              "    <tr>\n",
              "      <th>1</th>\n",
              "      <td>1</td>\n",
              "      <td>1</td>\n",
              "      <td>3</td>\n",
              "      <td>4</td>\n",
              "      <td>what is the story of kohinoor  koh i noor  dia...</td>\n",
              "      <td>what would happen if the indian government sto...</td>\n",
              "      <td>0</td>\n",
              "      <td>0.799984</td>\n",
              "      <td>0.399996</td>\n",
              "      <td>0.749981</td>\n",
              "      <td>...</td>\n",
              "      <td>0.466664</td>\n",
              "      <td>0.0</td>\n",
              "      <td>1.0</td>\n",
              "      <td>5.0</td>\n",
              "      <td>12.5</td>\n",
              "      <td>86</td>\n",
              "      <td>63</td>\n",
              "      <td>66</td>\n",
              "      <td>75</td>\n",
              "      <td>0.596154</td>\n",
              "    </tr>\n",
              "    <tr>\n",
              "      <th>2</th>\n",
              "      <td>2</td>\n",
              "      <td>2</td>\n",
              "      <td>5</td>\n",
              "      <td>6</td>\n",
              "      <td>how can i increase the speed of my internet co...</td>\n",
              "      <td>how can internet speed be increased by hacking...</td>\n",
              "      <td>0</td>\n",
              "      <td>0.399992</td>\n",
              "      <td>0.333328</td>\n",
              "      <td>0.399992</td>\n",
              "      <td>...</td>\n",
              "      <td>0.285712</td>\n",
              "      <td>0.0</td>\n",
              "      <td>1.0</td>\n",
              "      <td>4.0</td>\n",
              "      <td>12.0</td>\n",
              "      <td>63</td>\n",
              "      <td>63</td>\n",
              "      <td>43</td>\n",
              "      <td>47</td>\n",
              "      <td>0.166667</td>\n",
              "    </tr>\n",
              "    <tr>\n",
              "      <th>3</th>\n",
              "      <td>3</td>\n",
              "      <td>4</td>\n",
              "      <td>9</td>\n",
              "      <td>10</td>\n",
              "      <td>which one dissolve in water quikly sugar  salt...</td>\n",
              "      <td>which fish would survive in salt water</td>\n",
              "      <td>0</td>\n",
              "      <td>0.399992</td>\n",
              "      <td>0.199998</td>\n",
              "      <td>0.999950</td>\n",
              "      <td>...</td>\n",
              "      <td>0.307690</td>\n",
              "      <td>0.0</td>\n",
              "      <td>1.0</td>\n",
              "      <td>6.0</td>\n",
              "      <td>10.0</td>\n",
              "      <td>67</td>\n",
              "      <td>47</td>\n",
              "      <td>35</td>\n",
              "      <td>56</td>\n",
              "      <td>0.175000</td>\n",
              "    </tr>\n",
              "    <tr>\n",
              "      <th>4</th>\n",
              "      <td>4</td>\n",
              "      <td>5</td>\n",
              "      <td>11</td>\n",
              "      <td>12</td>\n",
              "      <td>astrology  i am a capricorn sun cap moon and c...</td>\n",
              "      <td>i am a triple capricorn  sun  moon and ascenda...</td>\n",
              "      <td>1</td>\n",
              "      <td>0.666656</td>\n",
              "      <td>0.571420</td>\n",
              "      <td>0.888879</td>\n",
              "      <td>...</td>\n",
              "      <td>0.705878</td>\n",
              "      <td>1.0</td>\n",
              "      <td>0.0</td>\n",
              "      <td>0.0</td>\n",
              "      <td>17.0</td>\n",
              "      <td>81</td>\n",
              "      <td>77</td>\n",
              "      <td>73</td>\n",
              "      <td>73</td>\n",
              "      <td>0.160920</td>\n",
              "    </tr>\n",
              "    <tr>\n",
              "      <th>...</th>\n",
              "      <td>...</td>\n",
              "      <td>...</td>\n",
              "      <td>...</td>\n",
              "      <td>...</td>\n",
              "      <td>...</td>\n",
              "      <td>...</td>\n",
              "      <td>...</td>\n",
              "      <td>...</td>\n",
              "      <td>...</td>\n",
              "      <td>...</td>\n",
              "      <td>...</td>\n",
              "      <td>...</td>\n",
              "      <td>...</td>\n",
              "      <td>...</td>\n",
              "      <td>...</td>\n",
              "      <td>...</td>\n",
              "      <td>...</td>\n",
              "      <td>...</td>\n",
              "      <td>...</td>\n",
              "      <td>...</td>\n",
              "      <td>...</td>\n",
              "    </tr>\n",
              "    <tr>\n",
              "      <th>298585</th>\n",
              "      <td>298585</td>\n",
              "      <td>404282</td>\n",
              "      <td>1931</td>\n",
              "      <td>16773</td>\n",
              "      <td>how does a long distance relationship work</td>\n",
              "      <td>how are long distance relationships maintained</td>\n",
              "      <td>1</td>\n",
              "      <td>0.499988</td>\n",
              "      <td>0.499988</td>\n",
              "      <td>0.499975</td>\n",
              "      <td>...</td>\n",
              "      <td>0.428565</td>\n",
              "      <td>0.0</td>\n",
              "      <td>1.0</td>\n",
              "      <td>1.0</td>\n",
              "      <td>6.5</td>\n",
              "      <td>77</td>\n",
              "      <td>73</td>\n",
              "      <td>75</td>\n",
              "      <td>77</td>\n",
              "      <td>0.613636</td>\n",
              "    </tr>\n",
              "    <tr>\n",
              "      <th>298586</th>\n",
              "      <td>298586</td>\n",
              "      <td>404284</td>\n",
              "      <td>537926</td>\n",
              "      <td>537927</td>\n",
              "      <td>what does jainism say about homosexuality</td>\n",
              "      <td>what does jainism say about gays and homosexua...</td>\n",
              "      <td>1</td>\n",
              "      <td>0.999967</td>\n",
              "      <td>0.749981</td>\n",
              "      <td>0.999967</td>\n",
              "      <td>...</td>\n",
              "      <td>0.749991</td>\n",
              "      <td>1.0</td>\n",
              "      <td>1.0</td>\n",
              "      <td>2.0</td>\n",
              "      <td>7.0</td>\n",
              "      <td>100</td>\n",
              "      <td>90</td>\n",
              "      <td>90</td>\n",
              "      <td>79</td>\n",
              "      <td>0.651163</td>\n",
              "    </tr>\n",
              "    <tr>\n",
              "      <th>298587</th>\n",
              "      <td>298587</td>\n",
              "      <td>404286</td>\n",
              "      <td>18840</td>\n",
              "      <td>155606</td>\n",
              "      <td>do you believe there is life after death</td>\n",
              "      <td>is it true that there is life after death</td>\n",
              "      <td>1</td>\n",
              "      <td>0.666644</td>\n",
              "      <td>0.666644</td>\n",
              "      <td>0.599988</td>\n",
              "      <td>...</td>\n",
              "      <td>0.555549</td>\n",
              "      <td>1.0</td>\n",
              "      <td>0.0</td>\n",
              "      <td>1.0</td>\n",
              "      <td>8.5</td>\n",
              "      <td>79</td>\n",
              "      <td>69</td>\n",
              "      <td>72</td>\n",
              "      <td>76</td>\n",
              "      <td>0.642857</td>\n",
              "    </tr>\n",
              "    <tr>\n",
              "      <th>298588</th>\n",
              "      <td>298588</td>\n",
              "      <td>404287</td>\n",
              "      <td>537928</td>\n",
              "      <td>537929</td>\n",
              "      <td>what is one coin</td>\n",
              "      <td>what is this coin</td>\n",
              "      <td>0</td>\n",
              "      <td>0.999900</td>\n",
              "      <td>0.499975</td>\n",
              "      <td>0.999950</td>\n",
              "      <td>...</td>\n",
              "      <td>0.749981</td>\n",
              "      <td>1.0</td>\n",
              "      <td>1.0</td>\n",
              "      <td>0.0</td>\n",
              "      <td>4.0</td>\n",
              "      <td>86</td>\n",
              "      <td>79</td>\n",
              "      <td>79</td>\n",
              "      <td>76</td>\n",
              "      <td>0.444444</td>\n",
              "    </tr>\n",
              "    <tr>\n",
              "      <th>298589</th>\n",
              "      <td>298589</td>\n",
              "      <td>404288</td>\n",
              "      <td>537930</td>\n",
              "      <td>537931</td>\n",
              "      <td>what is the approx annual cost of living while...</td>\n",
              "      <td>i am having little hairfall problem but i want...</td>\n",
              "      <td>0</td>\n",
              "      <td>0.000000</td>\n",
              "      <td>0.000000</td>\n",
              "      <td>0.124998</td>\n",
              "      <td>...</td>\n",
              "      <td>0.040000</td>\n",
              "      <td>0.0</td>\n",
              "      <td>0.0</td>\n",
              "      <td>8.0</td>\n",
              "      <td>21.0</td>\n",
              "      <td>37</td>\n",
              "      <td>35</td>\n",
              "      <td>30</td>\n",
              "      <td>34</td>\n",
              "      <td>0.052632</td>\n",
              "    </tr>\n",
              "  </tbody>\n",
              "</table>\n",
              "<p>298590 rows × 22 columns</p>\n",
              "</div>"
            ],
            "text/plain": [
              "        Unnamed: 0      id    qid1    qid2  \\\n",
              "0                0       0       1       2   \n",
              "1                1       1       3       4   \n",
              "2                2       2       5       6   \n",
              "3                3       4       9      10   \n",
              "4                4       5      11      12   \n",
              "...            ...     ...     ...     ...   \n",
              "298585      298585  404282    1931   16773   \n",
              "298586      298586  404284  537926  537927   \n",
              "298587      298587  404286   18840  155606   \n",
              "298588      298588  404287  537928  537929   \n",
              "298589      298589  404288  537930  537931   \n",
              "\n",
              "                                                question1  \\\n",
              "0       what is the step by step guide to invest in sh...   \n",
              "1       what is the story of kohinoor  koh i noor  dia...   \n",
              "2       how can i increase the speed of my internet co...   \n",
              "3       which one dissolve in water quikly sugar  salt...   \n",
              "4       astrology  i am a capricorn sun cap moon and c...   \n",
              "...                                                   ...   \n",
              "298585        how does a long distance relationship work    \n",
              "298586         what does jainism say about homosexuality    \n",
              "298587          do you believe there is life after death    \n",
              "298588                                  what is one coin    \n",
              "298589  what is the approx annual cost of living while...   \n",
              "\n",
              "                                                question2  is_duplicate  \\\n",
              "0       what is the step by step guide to invest in sh...             0   \n",
              "1       what would happen if the indian government sto...             0   \n",
              "2       how can internet speed be increased by hacking...             0   \n",
              "3                 which fish would survive in salt water              0   \n",
              "4       i am a triple capricorn  sun  moon and ascenda...             1   \n",
              "...                                                   ...           ...   \n",
              "298585    how are long distance relationships maintained              1   \n",
              "298586  what does jainism say about gays and homosexua...             1   \n",
              "298587         is it true that there is life after death              1   \n",
              "298588                                 what is this coin              0   \n",
              "298589  i am having little hairfall problem but i want...             0   \n",
              "\n",
              "         cwc_min   cwc_max   csc_min  ...   ctc_max  last_word_eq  \\\n",
              "0       0.999980  0.833319  0.999983  ...  0.785709           0.0   \n",
              "1       0.799984  0.399996  0.749981  ...  0.466664           0.0   \n",
              "2       0.399992  0.333328  0.399992  ...  0.285712           0.0   \n",
              "3       0.399992  0.199998  0.999950  ...  0.307690           0.0   \n",
              "4       0.666656  0.571420  0.888879  ...  0.705878           1.0   \n",
              "...          ...       ...       ...  ...       ...           ...   \n",
              "298585  0.499988  0.499988  0.499975  ...  0.428565           0.0   \n",
              "298586  0.999967  0.749981  0.999967  ...  0.749991           1.0   \n",
              "298587  0.666644  0.666644  0.599988  ...  0.555549           1.0   \n",
              "298588  0.999900  0.499975  0.999950  ...  0.749981           1.0   \n",
              "298589  0.000000  0.000000  0.124998  ...  0.040000           0.0   \n",
              "\n",
              "        first_word_eq  abs_len_diff  mean_len  token_set_ratio  \\\n",
              "0                 1.0           2.0      13.0              100   \n",
              "1                 1.0           5.0      12.5               86   \n",
              "2                 1.0           4.0      12.0               63   \n",
              "3                 1.0           6.0      10.0               67   \n",
              "4                 0.0           0.0      17.0               81   \n",
              "...               ...           ...       ...              ...   \n",
              "298585            1.0           1.0       6.5               77   \n",
              "298586            1.0           2.0       7.0              100   \n",
              "298587            0.0           1.0       8.5               79   \n",
              "298588            1.0           0.0       4.0               86   \n",
              "298589            0.0           8.0      21.0               37   \n",
              "\n",
              "        token_sort_ratio  fuzz_ratio  fuzz_partial_ratio  longest_substr_ratio  \n",
              "0                     93          93                 100              0.982759  \n",
              "1                     63          66                  75              0.596154  \n",
              "2                     63          43                  47              0.166667  \n",
              "3                     47          35                  56              0.175000  \n",
              "4                     77          73                  73              0.160920  \n",
              "...                  ...         ...                 ...                   ...  \n",
              "298585                73          75                  77              0.613636  \n",
              "298586                90          90                  79              0.651163  \n",
              "298587                69          72                  76              0.642857  \n",
              "298588                79          79                  76              0.444444  \n",
              "298589                35          30                  34              0.052632  \n",
              "\n",
              "[298590 rows x 22 columns]"
            ]
          },
          "metadata": {
            "tags": []
          },
          "execution_count": 6
        }
      ]
    },
    {
      "cell_type": "markdown",
      "metadata": {
        "id": "3xfHOLvPTL_S"
      },
      "source": [
        "Visualization of Fuzzy features"
      ]
    },
    {
      "cell_type": "code",
      "metadata": {
        "colab": {
          "base_uri": "https://localhost:8080/",
          "height": 785
        },
        "id": "Yn2veqNRF46W",
        "outputId": "a9731bb4-9143-4075-fe6e-1760c1d93f44"
      },
      "source": [
        "plt.figure(figsize=(16, 20))\n",
        "\n",
        "plt.subplot(3,2,1)\n",
        "sns.violinplot(x = 'is_duplicate', y = 'token_sort_ratio', data = fuzzy_data)\n",
        "plt.title(\"Violin Plot for Token_Sort_Ratio Per Class\", fontsize = 16)\n",
        "plt.xlabel(\"Duplicate/Not\", fontsize = 16)\n",
        "plt.ylabel(\"Token_Sort_Ratio\", fontsize = 16)\n",
        "\n",
        "plt.subplot(3,2,2)\n",
        "sns.distplot(fuzzy_data[fuzzy_data['is_duplicate'] == 0]['token_sort_ratio'], kde = False, color = 'blue', label = '0', hist_kws=dict(edgecolor=\"b\", linewidth=0.5))\n",
        "sns.distplot(fuzzy_data[fuzzy_data['is_duplicate'] == 1]['token_sort_ratio'], kde = False, color = 'red', label = '1', hist_kws=dict(edgecolor=\"r\", linewidth=2))\n",
        "plt.title(\"Dist Plot for Token_Sort_Ratio Per Class\", fontsize = 16)\n",
        "plt.xlabel(\"Token_Sort_Ratio\", fontsize = 16)\n",
        "plt.ylabel(\"Count\", fontsize = 16)\n",
        "plt.legend()\n",
        "\n",
        "plt.subplot(3,2,3)\n",
        "sns.violinplot(x = 'is_duplicate', y = 'fuzz_ratio', data = fuzzy_data)\n",
        "plt.title(\"Violin Plot for Fuzz_Ratio Per Class\", fontsize = 16)\n",
        "plt.xlabel(\"Duplicate/Not\", fontsize = 16)\n",
        "plt.ylabel(\"Fuzz_Ratio\", fontsize = 16)\n",
        "\n",
        "plt.subplot(3,2,4)\n",
        "sns.distplot(fuzzy_data[fuzzy_data['is_duplicate'] == 0]['fuzz_ratio'], kde = False, color = 'blue', label = '0', hist_kws=dict(edgecolor=\"b\", linewidth=0.5))\n",
        "sns.distplot(fuzzy_data[fuzzy_data['is_duplicate'] == 1]['fuzz_ratio'], kde = False, color = 'red', label = '1', hist_kws=dict(edgecolor=\"r\", linewidth=2))\n",
        "plt.title(\"Dist Plot for Fuzz_Ratio Per Class\", fontsize = 16)\n",
        "plt.xlabel(\"Fuzz_Ratio\", fontsize = 16)\n",
        "plt.ylabel(\"Count\", fontsize = 16)\n",
        "plt.legend()\n",
        "\n",
        "plt.subplots_adjust(hspace = 0.25, wspace = 0.25)\n",
        "plt.show()"
      ],
      "execution_count": null,
      "outputs": [
        {
          "output_type": "display_data",
          "data": {
            "image/png": "[encoded data removed]",
            "text/plain": [
              "<Figure size 1152x1440 with 4 Axes>"
            ]
          },
          "metadata": {
            "tags": [],
            "needs_background": "light"
          }
        }
      ]
    },
    {
      "cell_type": "markdown",
      "metadata": {
        "id": "tWux0K4OTagI"
      },
      "source": [
        "Combining both semantic and fuzzy features.\r\n"
      ]
    },
    {
      "cell_type": "code",
      "metadata": {
        "id": "Ln4qDNyKDmeY"
      },
      "source": [
        "# merging fuzzy features into previous dataframe (in which semantic similarity is present)\n",
        "\n",
        "temp = fuzzy_data[['token_set_ratio','token_sort_ratio','fuzz_ratio','fuzz_partial_ratio','longest_substr_ratio']]\n",
        "data_new = data_new.join(temp)\n"
      ],
      "execution_count": null,
      "outputs": []
    },
    {
      "cell_type": "code",
      "metadata": {
        "colab": {
          "base_uri": "https://localhost:8080/",
          "height": 602
        },
        "id": "uoAG6GwIaZ-L",
        "outputId": "1678af59-46ff-4121-dc52-e9f761f6ee70"
      },
      "source": [
        "data_new.head()"
      ],
      "execution_count": null,
      "outputs": [
        {
          "output_type": "execute_result",
          "data": {
            "text/html": [
              "<div>\n",
              "<style scoped>\n",
              "    .dataframe tbody tr th:only-of-type {\n",
              "        vertical-align: middle;\n",
              "    }\n",
              "\n",
              "    .dataframe tbody tr th {\n",
              "        vertical-align: top;\n",
              "    }\n",
              "\n",
              "    .dataframe thead th {\n",
              "        text-align: right;\n",
              "    }\n",
              "</style>\n",
              "<table border=\"1\" class=\"dataframe\">\n",
              "  <thead>\n",
              "    <tr style=\"text-align: right;\">\n",
              "      <th></th>\n",
              "      <th>Unnamed: 0</th>\n",
              "      <th>Unnamed: 0.1</th>\n",
              "      <th>id</th>\n",
              "      <th>qid1</th>\n",
              "      <th>qid2</th>\n",
              "      <th>question1</th>\n",
              "      <th>question2</th>\n",
              "      <th>is_duplicate</th>\n",
              "      <th>Cosine_Sim</th>\n",
              "      <th>Order_Sim</th>\n",
              "      <th>token_set_ratio</th>\n",
              "      <th>token_sort_ratio</th>\n",
              "      <th>fuzz_ratio</th>\n",
              "      <th>fuzz_partial_ratio</th>\n",
              "      <th>longest_substr_ratio</th>\n",
              "    </tr>\n",
              "  </thead>\n",
              "  <tbody>\n",
              "    <tr>\n",
              "      <th>0</th>\n",
              "      <td>0</td>\n",
              "      <td>0</td>\n",
              "      <td>0</td>\n",
              "      <td>1</td>\n",
              "      <td>2</td>\n",
              "      <td>what is the step by step guide to invest in sh...</td>\n",
              "      <td>what is the step by step guide to invest in sh...</td>\n",
              "      <td>0</td>\n",
              "      <td>0.786447</td>\n",
              "      <td>0.715911</td>\n",
              "      <td>100</td>\n",
              "      <td>93</td>\n",
              "      <td>93</td>\n",
              "      <td>100</td>\n",
              "      <td>0.982759</td>\n",
              "    </tr>\n",
              "    <tr>\n",
              "      <th>1</th>\n",
              "      <td>1</td>\n",
              "      <td>1</td>\n",
              "      <td>1</td>\n",
              "      <td>3</td>\n",
              "      <td>4</td>\n",
              "      <td>what is the story of kohinoor  koh i noor  dia...</td>\n",
              "      <td>what would happen if the indian government sto...</td>\n",
              "      <td>0</td>\n",
              "      <td>0.806139</td>\n",
              "      <td>0.541225</td>\n",
              "      <td>86</td>\n",
              "      <td>63</td>\n",
              "      <td>66</td>\n",
              "      <td>75</td>\n",
              "      <td>0.596154</td>\n",
              "    </tr>\n",
              "    <tr>\n",
              "      <th>2</th>\n",
              "      <td>2</td>\n",
              "      <td>2</td>\n",
              "      <td>2</td>\n",
              "      <td>5</td>\n",
              "      <td>6</td>\n",
              "      <td>how can i increase the speed of my internet co...</td>\n",
              "      <td>how can internet speed be increased by hacking...</td>\n",
              "      <td>0</td>\n",
              "      <td>0.000000</td>\n",
              "      <td>0.056788</td>\n",
              "      <td>63</td>\n",
              "      <td>63</td>\n",
              "      <td>43</td>\n",
              "      <td>47</td>\n",
              "      <td>0.166667</td>\n",
              "    </tr>\n",
              "    <tr>\n",
              "      <th>3</th>\n",
              "      <td>3</td>\n",
              "      <td>3</td>\n",
              "      <td>3</td>\n",
              "      <td>7</td>\n",
              "      <td>8</td>\n",
              "      <td>why am i mentally very lonely  how can i solve...</td>\n",
              "      <td>find the remainder when  math 23  24   math  i...</td>\n",
              "      <td>0</td>\n",
              "      <td>0.000000</td>\n",
              "      <td>0.000760</td>\n",
              "      <td>67</td>\n",
              "      <td>47</td>\n",
              "      <td>35</td>\n",
              "      <td>56</td>\n",
              "      <td>0.175000</td>\n",
              "    </tr>\n",
              "    <tr>\n",
              "      <th>4</th>\n",
              "      <td>4</td>\n",
              "      <td>4</td>\n",
              "      <td>4</td>\n",
              "      <td>9</td>\n",
              "      <td>10</td>\n",
              "      <td>which one dissolve in water quikly sugar  salt...</td>\n",
              "      <td>which fish would survive in salt water</td>\n",
              "      <td>0</td>\n",
              "      <td>0.000000</td>\n",
              "      <td>0.176834</td>\n",
              "      <td>81</td>\n",
              "      <td>77</td>\n",
              "      <td>73</td>\n",
              "      <td>73</td>\n",
              "      <td>0.160920</td>\n",
              "    </tr>\n",
              "  </tbody>\n",
              "</table>\n",
              "</div>"
            ],
            "text/plain": [
              "   Unnamed: 0  Unnamed: 0.1  id  qid1  qid2  \\\n",
              "0           0             0   0     1     2   \n",
              "1           1             1   1     3     4   \n",
              "2           2             2   2     5     6   \n",
              "3           3             3   3     7     8   \n",
              "4           4             4   4     9    10   \n",
              "\n",
              "                                           question1  \\\n",
              "0  what is the step by step guide to invest in sh...   \n",
              "1  what is the story of kohinoor  koh i noor  dia...   \n",
              "2  how can i increase the speed of my internet co...   \n",
              "3  why am i mentally very lonely  how can i solve...   \n",
              "4  which one dissolve in water quikly sugar  salt...   \n",
              "\n",
              "                                           question2  is_duplicate  \\\n",
              "0  what is the step by step guide to invest in sh...             0   \n",
              "1  what would happen if the indian government sto...             0   \n",
              "2  how can internet speed be increased by hacking...             0   \n",
              "3  find the remainder when  math 23  24   math  i...             0   \n",
              "4            which fish would survive in salt water              0   \n",
              "\n",
              "   Cosine_Sim  Order_Sim  token_set_ratio  token_sort_ratio  fuzz_ratio  \\\n",
              "0    0.786447   0.715911              100                93          93   \n",
              "1    0.806139   0.541225               86                63          66   \n",
              "2    0.000000   0.056788               63                63          43   \n",
              "3    0.000000   0.000760               67                47          35   \n",
              "4    0.000000   0.176834               81                77          73   \n",
              "\n",
              "   fuzz_partial_ratio  longest_substr_ratio  \n",
              "0                 100              0.982759  \n",
              "1                  75              0.596154  \n",
              "2                  47              0.166667  \n",
              "3                  56              0.175000  \n",
              "4                  73              0.160920  "
            ]
          },
          "metadata": {
            "tags": []
          },
          "execution_count": 8
        }
      ]
    },
    {
      "cell_type": "code",
      "metadata": {
        "id": "A-K9C30eddJc"
      },
      "source": [
        "# removing unwanted columns\n",
        "del data_new['Unnamed: 0.1']\n",
        "del data_new['id']"
      ],
      "execution_count": null,
      "outputs": []
    },
    {
      "cell_type": "code",
      "metadata": {
        "colab": {
          "base_uri": "https://localhost:8080/",
          "height": 296
        },
        "id": "RNksbp3od2Ry",
        "outputId": "b3affa10-52cb-4f8c-8955-f35e9abb522a"
      },
      "source": [
        "data_new.head()"
      ],
      "execution_count": null,
      "outputs": [
        {
          "output_type": "execute_result",
          "data": {
            "text/html": [
              "<div>\n",
              "<style scoped>\n",
              "    .dataframe tbody tr th:only-of-type {\n",
              "        vertical-align: middle;\n",
              "    }\n",
              "\n",
              "    .dataframe tbody tr th {\n",
              "        vertical-align: top;\n",
              "    }\n",
              "\n",
              "    .dataframe thead th {\n",
              "        text-align: right;\n",
              "    }\n",
              "</style>\n",
              "<table border=\"1\" class=\"dataframe\">\n",
              "  <thead>\n",
              "    <tr style=\"text-align: right;\">\n",
              "      <th></th>\n",
              "      <th>qid1</th>\n",
              "      <th>qid2</th>\n",
              "      <th>question1</th>\n",
              "      <th>question2</th>\n",
              "      <th>is_duplicate</th>\n",
              "      <th>Cosine_Sim</th>\n",
              "      <th>Order_Sim</th>\n",
              "      <th>token_set_ratio</th>\n",
              "      <th>token_sort_ratio</th>\n",
              "      <th>fuzz_ratio</th>\n",
              "      <th>fuzz_partial_ratio</th>\n",
              "      <th>longest_substr_ratio</th>\n",
              "    </tr>\n",
              "  </thead>\n",
              "  <tbody>\n",
              "    <tr>\n",
              "      <th>0</th>\n",
              "      <td>1</td>\n",
              "      <td>2</td>\n",
              "      <td>what is the step by step guide to invest in sh...</td>\n",
              "      <td>what is the step by step guide to invest in sh...</td>\n",
              "      <td>0</td>\n",
              "      <td>0.786447</td>\n",
              "      <td>0.715911</td>\n",
              "      <td>100</td>\n",
              "      <td>93</td>\n",
              "      <td>93</td>\n",
              "      <td>100</td>\n",
              "      <td>0.982759</td>\n",
              "    </tr>\n",
              "    <tr>\n",
              "      <th>1</th>\n",
              "      <td>3</td>\n",
              "      <td>4</td>\n",
              "      <td>what is the story of kohinoor  koh i noor  dia...</td>\n",
              "      <td>what would happen if the indian government sto...</td>\n",
              "      <td>0</td>\n",
              "      <td>0.806139</td>\n",
              "      <td>0.541225</td>\n",
              "      <td>86</td>\n",
              "      <td>63</td>\n",
              "      <td>66</td>\n",
              "      <td>75</td>\n",
              "      <td>0.596154</td>\n",
              "    </tr>\n",
              "    <tr>\n",
              "      <th>2</th>\n",
              "      <td>5</td>\n",
              "      <td>6</td>\n",
              "      <td>how can i increase the speed of my internet co...</td>\n",
              "      <td>how can internet speed be increased by hacking...</td>\n",
              "      <td>0</td>\n",
              "      <td>0.000000</td>\n",
              "      <td>0.056788</td>\n",
              "      <td>63</td>\n",
              "      <td>63</td>\n",
              "      <td>43</td>\n",
              "      <td>47</td>\n",
              "      <td>0.166667</td>\n",
              "    </tr>\n",
              "    <tr>\n",
              "      <th>3</th>\n",
              "      <td>7</td>\n",
              "      <td>8</td>\n",
              "      <td>why am i mentally very lonely  how can i solve...</td>\n",
              "      <td>find the remainder when  math 23  24   math  i...</td>\n",
              "      <td>0</td>\n",
              "      <td>0.000000</td>\n",
              "      <td>0.000760</td>\n",
              "      <td>67</td>\n",
              "      <td>47</td>\n",
              "      <td>35</td>\n",
              "      <td>56</td>\n",
              "      <td>0.175000</td>\n",
              "    </tr>\n",
              "    <tr>\n",
              "      <th>4</th>\n",
              "      <td>9</td>\n",
              "      <td>10</td>\n",
              "      <td>which one dissolve in water quikly sugar  salt...</td>\n",
              "      <td>which fish would survive in salt water</td>\n",
              "      <td>0</td>\n",
              "      <td>0.000000</td>\n",
              "      <td>0.176834</td>\n",
              "      <td>81</td>\n",
              "      <td>77</td>\n",
              "      <td>73</td>\n",
              "      <td>73</td>\n",
              "      <td>0.160920</td>\n",
              "    </tr>\n",
              "  </tbody>\n",
              "</table>\n",
              "</div>"
            ],
            "text/plain": [
              "   qid1  qid2  ... fuzz_partial_ratio longest_substr_ratio\n",
              "0     1     2  ...                100             0.982759\n",
              "1     3     4  ...                 75             0.596154\n",
              "2     5     6  ...                 47             0.166667\n",
              "3     7     8  ...                 56             0.175000\n",
              "4     9    10  ...                 73             0.160920\n",
              "\n",
              "[5 rows x 12 columns]"
            ]
          },
          "metadata": {
            "tags": []
          },
          "execution_count": 13
        }
      ]
    },
    {
      "cell_type": "code",
      "metadata": {
        "colab": {
          "base_uri": "https://localhost:8080/"
        },
        "id": "8Kcc42uzC-GZ",
        "outputId": "866a1f59-402b-4771-edf9-084aab3fe0db"
      },
      "source": [
        "!pip install mlxtend"
      ],
      "execution_count": null,
      "outputs": [
        {
          "output_type": "stream",
          "text": [
            "Requirement already satisfied: mlxtend in c:\\programdata\\anaconda3\\lib\\site-packages (0.18.0)\n",
            "Requirement already satisfied: numpy>=1.16.2 in c:\\programdata\\anaconda3\\lib\\site-packages (from mlxtend) (1.18.5)\n",
            "Requirement already satisfied: pandas>=0.24.2 in c:\\programdata\\anaconda3\\lib\\site-packages (from mlxtend) (1.0.5)\n",
            "Requirement already satisfied: setuptools in c:\\users\\tanvi\\appdata\\roaming\\python\\python38\\site-packages (from mlxtend) (50.3.2)\n",
            "Requirement already satisfied: scipy>=1.2.1 in c:\\programdata\\anaconda3\\lib\\site-packages (from mlxtend) (1.5.0)\n",
            "Requirement already satisfied: scikit-learn>=0.20.3 in c:\\programdata\\anaconda3\\lib\\site-packages (from mlxtend) (0.23.1)\n",
            "Requirement already satisfied: joblib>=0.13.2 in c:\\programdata\\anaconda3\\lib\\site-packages (from mlxtend) (0.16.0)\n",
            "Requirement already satisfied: matplotlib>=3.0.0 in c:\\programdata\\anaconda3\\lib\\site-packages (from mlxtend) (3.2.2)\n",
            "Requirement already satisfied: python-dateutil>=2.6.1 in c:\\programdata\\anaconda3\\lib\\site-packages (from pandas>=0.24.2->mlxtend) (2.8.1)\n",
            "Requirement already satisfied: pytz>=2017.2 in c:\\programdata\\anaconda3\\lib\\site-packages (from pandas>=0.24.2->mlxtend) (2020.1)\n",
            "Requirement already satisfied: threadpoolctl>=2.0.0 in c:\\programdata\\anaconda3\\lib\\site-packages (from scikit-learn>=0.20.3->mlxtend) (2.1.0)\n",
            "Requirement already satisfied: pyparsing!=2.0.4,!=2.1.2,!=2.1.6,>=2.0.1 in c:\\programdata\\anaconda3\\lib\\site-packages (from matplotlib>=3.0.0->mlxtend) (2.4.7)\n",
            "Requirement already satisfied: cycler>=0.10 in c:\\programdata\\anaconda3\\lib\\site-packages (from matplotlib>=3.0.0->mlxtend) (0.10.0)\n",
            "Requirement already satisfied: kiwisolver>=1.0.1 in c:\\programdata\\anaconda3\\lib\\site-packages (from matplotlib>=3.0.0->mlxtend) (1.2.0)\n",
            "Requirement already satisfied: six>=1.5 in c:\\programdata\\anaconda3\\lib\\site-packages (from python-dateutil>=2.6.1->pandas>=0.24.2->mlxtend) (1.15.0)\n"
          ],
          "name": "stdout"
        }
      ]
    },
    {
      "cell_type": "code",
      "metadata": {
        "id": "QnWOgVlShKhv"
      },
      "source": [
        "# Using scikit learn for training and evaluation\n",
        "from sklearn.datasets import make_blobs\n",
        "from sklearn.svm import SVC\n",
        "from sklearn.model_selection import train_test_split\n",
        "from sklearn.metrics import plot_confusion_matrix, accuracy_score\n",
        "from mlxtend.plotting import plot_decision_regions\n",
        "\n",
        "# Generate data\n",
        "X = data_new.iloc[:,6:13] \n",
        "y = data_new.iloc[:,5]\n",
        "\n",
        "\n",
        "# Split into training and testing data\n",
        "X_train, X_test, y_train, y_test = train_test_split(X, y, test_size=0.33, random_state=42)\n"
      ],
      "execution_count": null,
      "outputs": []
    },
    {
      "cell_type": "code",
      "metadata": {
        "colab": {
          "base_uri": "https://localhost:8080/",
          "height": 402
        },
        "id": "sonR4HGjvOv3",
        "outputId": "fe506981-6d7b-477a-ba38-58fca87b2980"
      },
      "source": [
        "X_train\n"
      ],
      "execution_count": null,
      "outputs": [
        {
          "output_type": "execute_result",
          "data": {
            "text/html": [
              "<div>\n",
              "<style scoped>\n",
              "    .dataframe tbody tr th:only-of-type {\n",
              "        vertical-align: middle;\n",
              "    }\n",
              "\n",
              "    .dataframe tbody tr th {\n",
              "        vertical-align: top;\n",
              "    }\n",
              "\n",
              "    .dataframe thead th {\n",
              "        text-align: right;\n",
              "    }\n",
              "</style>\n",
              "<table border=\"1\" class=\"dataframe\">\n",
              "  <thead>\n",
              "    <tr style=\"text-align: right;\">\n",
              "      <th></th>\n",
              "      <th>Cosine_Sim</th>\n",
              "      <th>Order_Sim</th>\n",
              "      <th>token_set_ratio</th>\n",
              "      <th>token_sort_ratio</th>\n",
              "      <th>fuzz_ratio</th>\n",
              "      <th>fuzz_partial_ratio</th>\n",
              "      <th>longest_substr_ratio</th>\n",
              "    </tr>\n",
              "  </thead>\n",
              "  <tbody>\n",
              "    <tr>\n",
              "      <th>179646</th>\n",
              "      <td>0.000000</td>\n",
              "      <td>0.457135</td>\n",
              "      <td>80</td>\n",
              "      <td>63</td>\n",
              "      <td>66</td>\n",
              "      <td>70</td>\n",
              "      <td>0.315789</td>\n",
              "    </tr>\n",
              "    <tr>\n",
              "      <th>106795</th>\n",
              "      <td>0.000000</td>\n",
              "      <td>0.579635</td>\n",
              "      <td>80</td>\n",
              "      <td>54</td>\n",
              "      <td>51</td>\n",
              "      <td>79</td>\n",
              "      <td>0.400000</td>\n",
              "    </tr>\n",
              "    <tr>\n",
              "      <th>184117</th>\n",
              "      <td>0.000000</td>\n",
              "      <td>0.002736</td>\n",
              "      <td>52</td>\n",
              "      <td>48</td>\n",
              "      <td>56</td>\n",
              "      <td>64</td>\n",
              "      <td>0.288889</td>\n",
              "    </tr>\n",
              "    <tr>\n",
              "      <th>200384</th>\n",
              "      <td>0.000000</td>\n",
              "      <td>0.262597</td>\n",
              "      <td>100</td>\n",
              "      <td>93</td>\n",
              "      <td>93</td>\n",
              "      <td>100</td>\n",
              "      <td>0.986111</td>\n",
              "    </tr>\n",
              "    <tr>\n",
              "      <th>91572</th>\n",
              "      <td>0.040300</td>\n",
              "      <td>0.086312</td>\n",
              "      <td>98</td>\n",
              "      <td>94</td>\n",
              "      <td>96</td>\n",
              "      <td>92</td>\n",
              "      <td>0.462687</td>\n",
              "    </tr>\n",
              "    <tr>\n",
              "      <th>...</th>\n",
              "      <td>...</td>\n",
              "      <td>...</td>\n",
              "      <td>...</td>\n",
              "      <td>...</td>\n",
              "      <td>...</td>\n",
              "      <td>...</td>\n",
              "      <td>...</td>\n",
              "    </tr>\n",
              "    <tr>\n",
              "      <th>119879</th>\n",
              "      <td>0.000000</td>\n",
              "      <td>0.000086</td>\n",
              "      <td>90</td>\n",
              "      <td>69</td>\n",
              "      <td>69</td>\n",
              "      <td>87</td>\n",
              "      <td>0.615385</td>\n",
              "    </tr>\n",
              "    <tr>\n",
              "      <th>259178</th>\n",
              "      <td>0.000000</td>\n",
              "      <td>0.406801</td>\n",
              "      <td>84</td>\n",
              "      <td>77</td>\n",
              "      <td>84</td>\n",
              "      <td>83</td>\n",
              "      <td>0.428571</td>\n",
              "    </tr>\n",
              "    <tr>\n",
              "      <th>131932</th>\n",
              "      <td>0.754781</td>\n",
              "      <td>0.558133</td>\n",
              "      <td>100</td>\n",
              "      <td>90</td>\n",
              "      <td>90</td>\n",
              "      <td>93</td>\n",
              "      <td>0.914894</td>\n",
              "    </tr>\n",
              "    <tr>\n",
              "      <th>146867</th>\n",
              "      <td>0.719692</td>\n",
              "      <td>0.265582</td>\n",
              "      <td>81</td>\n",
              "      <td>72</td>\n",
              "      <td>72</td>\n",
              "      <td>81</td>\n",
              "      <td>0.729730</td>\n",
              "    </tr>\n",
              "    <tr>\n",
              "      <th>121958</th>\n",
              "      <td>0.000000</td>\n",
              "      <td>0.160109</td>\n",
              "      <td>72</td>\n",
              "      <td>67</td>\n",
              "      <td>44</td>\n",
              "      <td>45</td>\n",
              "      <td>0.154639</td>\n",
              "    </tr>\n",
              "  </tbody>\n",
              "</table>\n",
              "<p>200053 rows × 7 columns</p>\n",
              "</div>"
            ],
            "text/plain": [
              "        Cosine_Sim  Order_Sim  token_set_ratio  token_sort_ratio  fuzz_ratio  \\\n",
              "179646    0.000000   0.457135               80                63          66   \n",
              "106795    0.000000   0.579635               80                54          51   \n",
              "184117    0.000000   0.002736               52                48          56   \n",
              "200384    0.000000   0.262597              100                93          93   \n",
              "91572     0.040300   0.086312               98                94          96   \n",
              "...            ...        ...              ...               ...         ...   \n",
              "119879    0.000000   0.000086               90                69          69   \n",
              "259178    0.000000   0.406801               84                77          84   \n",
              "131932    0.754781   0.558133              100                90          90   \n",
              "146867    0.719692   0.265582               81                72          72   \n",
              "121958    0.000000   0.160109               72                67          44   \n",
              "\n",
              "        fuzz_partial_ratio  longest_substr_ratio  \n",
              "179646                  70              0.315789  \n",
              "106795                  79              0.400000  \n",
              "184117                  64              0.288889  \n",
              "200384                 100              0.986111  \n",
              "91572                   92              0.462687  \n",
              "...                    ...                   ...  \n",
              "119879                  87              0.615385  \n",
              "259178                  83              0.428571  \n",
              "131932                  93              0.914894  \n",
              "146867                  81              0.729730  \n",
              "121958                  45              0.154639  \n",
              "\n",
              "[200053 rows x 7 columns]"
            ]
          },
          "metadata": {
            "tags": []
          },
          "execution_count": 11
        }
      ]
    },
    {
      "cell_type": "code",
      "metadata": {
        "colab": {
          "base_uri": "https://localhost:8080/"
        },
        "id": "SW-C9jl7wH9m",
        "outputId": "1b77ad68-36e6-4377-f7ba-8b4e81541df7"
      },
      "source": [
        "y_train"
      ],
      "execution_count": null,
      "outputs": [
        {
          "output_type": "execute_result",
          "data": {
            "text/plain": [
              "179646    1\n",
              "106795    0\n",
              "184117    0\n",
              "200384    0\n",
              "91572     0\n",
              "         ..\n",
              "119879    0\n",
              "259178    0\n",
              "131932    1\n",
              "146867    1\n",
              "121958    0\n",
              "Name: is_duplicate, Length: 200053, dtype: int64"
            ]
          },
          "metadata": {
            "tags": []
          },
          "execution_count": 12
        }
      ]
    },
    {
      "cell_type": "code",
      "metadata": {
        "id": "HYA6T9TUPrp7"
      },
      "source": [
        "# rescaling train dataset\n",
        "from sklearn import preprocessing\n",
        "from sklearn import svm, datasets\n",
        "\n",
        "X_train = preprocessing.scale(X_train)\n",
        "#rescaling test dataset\n",
        "X_test = preprocessing.scale(X_test)\n"
      ],
      "execution_count": null,
      "outputs": []
    },
    {
      "cell_type": "markdown",
      "metadata": {
        "id": "dWy3raagVVtI"
      },
      "source": [
        "# Modelling and Evaluation Using SVM "
      ]
    },
    {
      "cell_type": "markdown",
      "metadata": {
        "id": "4sMW5HDmWWOY"
      },
      "source": [
        "Below several cases has been performed to optimized the SVM classfier by changing the value of C and gamma"
      ]
    },
    {
      "cell_type": "markdown",
      "metadata": {
        "id": "GaTgotoZQkCf"
      },
      "source": [
        "#CASE 1\r\n",
        "C= 10, gamma=0.01"
      ]
    },
    {
      "cell_type": "code",
      "metadata": {
        "id": "C5_Rurf_nr3N"
      },
      "source": [
        "# hyperparameter tuning manual\n",
        "# Create the SVM\n",
        "svm1 = SVC(C=10,gamma=0.01, kernel='rbf')\n"
      ],
      "execution_count": null,
      "outputs": []
    },
    {
      "cell_type": "code",
      "metadata": {
        "id": "4X-euhm9ofS5",
        "outputId": "7b2f20fa-e2cf-465d-d468-7f1445ff7a88"
      },
      "source": [
        "# Fit the data to the SVM classifier\n",
        "svm1 = svm1.fit(X_train, y_train)\n",
        "svm1"
      ],
      "execution_count": null,
      "outputs": [
        {
          "output_type": "execute_result",
          "data": {
            "text/plain": [
              "SVC(C=10, gamma=0.01)"
            ]
          },
          "metadata": {
            "tags": []
          },
          "execution_count": 16
        }
      ]
    },
    {
      "cell_type": "code",
      "metadata": {
        "id": "FEUYWK5DQkCh"
      },
      "source": [
        "from sklearn.metrics import plot_confusion_matrix, accuracy_score\n",
        "from mlxtend.plotting import plot_decision_regions\n",
        "from sklearn.metrics import classification_report\n"
      ],
      "execution_count": null,
      "outputs": []
    },
    {
      "cell_type": "code",
      "metadata": {
        "id": "RG3-8p0rQkCh",
        "outputId": "19d8c85a-0d80-4943-ca19-4d56d3f914db"
      },
      "source": [
        "# Evaluate by means of a confusion matrix\n",
        "matrix = plot_confusion_matrix(svm1, X_test, y_test,\n",
        "                                 cmap=plt.cm.Blues,\n",
        "                                 normalize='true')\n",
        "plt.title('Confusion matrix for Radial Basis Function SVM')\n",
        "plt.show(matrix)\n",
        "plt.show()\n"
      ],
      "execution_count": null,
      "outputs": [
        {
          "output_type": "display_data",
          "data": {
            "image/png": "[encoded data removed]",
            "text/plain": [
              "<Figure size 432x288 with 2 Axes>"
            ]
          },
          "metadata": {
            "tags": [],
            "needs_background": "light"
          }
        }
      ]
    },
    {
      "cell_type": "code",
      "metadata": {
        "id": "gBW4MbgHQkCh",
        "outputId": "8ba1a7ed-bf87-4686-db5f-4b62323994c3"
      },
      "source": [
        "# Generate predictions\n",
        "y_pred1 = svm1.predict(X_test)\n",
        "\n",
        "print(classification_report(y_test,y_pred1))"
      ],
      "execution_count": null,
      "outputs": [
        {
          "output_type": "stream",
          "text": [
            "              precision    recall  f1-score   support\n",
            "\n",
            "           0       0.77      0.53      0.63     49119\n",
            "           1       0.64      0.84      0.73     49415\n",
            "\n",
            "    accuracy                           0.69     98534\n",
            "   macro avg       0.71      0.69      0.68     98534\n",
            "weighted avg       0.71      0.69      0.68     98534\n",
            "\n"
          ],
          "name": "stdout"
        }
      ]
    },
    {
      "cell_type": "markdown",
      "metadata": {
        "id": "4jlYKPdIQkCi"
      },
      "source": [
        "#CASE 2\r\n",
        "c=100, gamma=0.001"
      ]
    },
    {
      "cell_type": "code",
      "metadata": {
        "id": "oXSeeY2d-Y50"
      },
      "source": [
        "# Create the SVM\n",
        "svm2 = SVC(C=100,gamma=0.001, kernel='rbf')\n",
        "\n",
        "# Fit the data to the SVM classifier\n",
        "svm2 = svm2.fit(X_train, y_train)\n"
      ],
      "execution_count": null,
      "outputs": []
    },
    {
      "cell_type": "code",
      "metadata": {
        "colab": {
          "base_uri": "https://localhost:8080/",
          "height": 295
        },
        "id": "2MbQFsnk-aFa",
        "outputId": "292de7be-ca99-4009-e753-2ad136457d65"
      },
      "source": [
        "\n",
        "# Evaluate by means of a confusion matrix\n",
        "matrix = plot_confusion_matrix(svm2, X_test, y_test,\n",
        "                                 cmap=plt.cm.Blues,\n",
        "                                 normalize='true')\n",
        "plt.title('Confusion matrix for Radial Basis Function SVM2')\n",
        "plt.show(matrix)\n",
        "plt.show()\n"
      ],
      "execution_count": null,
      "outputs": [
        {
          "output_type": "display_data",
          "data": {
            "image/png": "[encoded data removed]",
            "text/plain": [
              "<Figure size 432x288 with 2 Axes>"
            ]
          },
          "metadata": {
            "tags": [],
            "needs_background": "light"
          }
        }
      ]
    },
    {
      "cell_type": "code",
      "metadata": {
        "colab": {
          "base_uri": "https://localhost:8080/"
        },
        "id": "oTwSuwnm-af-",
        "outputId": "2b06f3b9-3c54-40e7-b566-6ca9ae6822b8"
      },
      "source": [
        "# Generate predictions\n",
        "y_pred2 = svm2.predict(X_test)\n",
        "\n",
        "print(classification_report(y_test,y_pred2))"
      ],
      "execution_count": null,
      "outputs": [
        {
          "output_type": "stream",
          "text": [
            "              precision    recall  f1-score   support\n",
            "\n",
            "           0       0.74      0.58      0.65     49119\n",
            "           1       0.66      0.80      0.72     49415\n",
            "\n",
            "    accuracy                           0.69     98534\n",
            "   macro avg       0.70      0.69      0.68     98534\n",
            "weighted avg       0.70      0.69      0.68     98534\n",
            "\n"
          ],
          "name": "stdout"
        }
      ]
    },
    {
      "cell_type": "markdown",
      "metadata": {
        "id": "yz-D1PZ0C-Gh"
      },
      "source": [
        "#CASE 3\r\n",
        "c=10, gamma=0.05"
      ]
    },
    {
      "cell_type": "code",
      "metadata": {
        "id": "fMNVMphSC-Gh"
      },
      "source": [
        "#ANOTHER CASE OF HYPERTUNING\n",
        "svm_case3 = SVC(C=10,gamma=0.05, kernel='rbf')\n",
        "\n",
        "# Fit the data to the SVM classifier\n",
        "svm_case3 = svm_case3.fit(X_train, y_train)"
      ],
      "execution_count": null,
      "outputs": []
    },
    {
      "cell_type": "code",
      "metadata": {
        "id": "sr3mp6xdQkCk"
      },
      "source": [
        "svm_case3"
      ],
      "execution_count": null,
      "outputs": []
    },
    {
      "cell_type": "code",
      "metadata": {
        "id": "-RlrToc0C-Gh",
        "outputId": "56551dbf-6a3a-414a-d90e-c9b277a6a2e2"
      },
      "source": [
        "# Evaluate by means of a confusion matrix\n",
        "matrix = plot_confusion_matrix(svm_case3, X_test, y_test,\n",
        "                                 cmap=plt.cm.Blues,\n",
        "                                 normalize='true')\n",
        "plt.title('Confusion matrix for Radial Basis Function SVM_case3')\n",
        "plt.show(matrix)\n",
        "plt.show()\n"
      ],
      "execution_count": null,
      "outputs": [
        {
          "output_type": "display_data",
          "data": {
            "image/png": "[encoded data removed]",
            "text/plain": [
              "<Figure size 432x288 with 2 Axes>"
            ]
          },
          "metadata": {
            "tags": [],
            "needs_background": "light"
          }
        }
      ]
    },
    {
      "cell_type": "markdown",
      "metadata": {
        "id": "b2LFN1ExYkGJ"
      },
      "source": [
        "In case-3, the value gamma is large because of that the effect of C become negligible. Very large gamma values result in too specific class regions (overfitting)."
      ]
    }
  ]
}